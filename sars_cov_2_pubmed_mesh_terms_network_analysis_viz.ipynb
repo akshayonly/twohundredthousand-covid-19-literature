{
  "nbformat": 4,
  "nbformat_minor": 0,
  "metadata": {
    "colab": {
      "name": "sars-cov-2-pubmed-mesh-terms-network-analysis-viz.ipynb",
      "provenance": [],
      "collapsed_sections": [],
      "mount_file_id": "17BWObc3vN8heOU07JBVc1IW5VlXFVJ-3",
      "authorship_tag": "ABX9TyNFR/Qs6kz0oMHOK7jB4PBC"
    },
    "kernelspec": {
      "name": "python3",
      "display_name": "Python 3"
    },
    "language_info": {
      "name": "python"
    }
  },
  "cells": [
    {
      "cell_type": "markdown",
      "source": [
        "# Sars Cov2 PubMed MeSH Terms Network Graph Analysis & Visualization"
      ],
      "metadata": {
        "id": "jeRcPyJHhnwz"
      }
    },
    {
      "cell_type": "code",
      "execution_count": 1,
      "metadata": {
        "id": "scAlWrQEENep"
      },
      "outputs": [],
      "source": [
        "import pandas as pd\n",
        "import seaborn as sns\n",
        "import networkx as nx\n",
        "import matplotlib.pyplot as plt\n"
      ]
    },
    {
      "cell_type": "code",
      "source": [
        "file_path =  \"/content/drive/MyDrive/04-Work/EDA-Comparison-21st-Epidemics-PubMed/all-covid-19-pubmed-metadata.csv\""
      ],
      "metadata": {
        "id": "UMeRjc9gEdQL"
      },
      "execution_count": 2,
      "outputs": []
    },
    {
      "cell_type": "code",
      "source": [
        "data = pd.read_csv(file_path)"
      ],
      "metadata": {
        "colab": {
          "base_uri": "https://localhost:8080/"
        },
        "id": "h9VmsU1aE0cT",
        "outputId": "f9fdfa14-fa24-4518-a8d3-9eab3ee0742b"
      },
      "execution_count": 3,
      "outputs": [
        {
          "output_type": "stream",
          "name": "stderr",
          "text": [
            "/usr/local/lib/python3.7/dist-packages/IPython/core/interactiveshell.py:2882: DtypeWarning: Columns (0) have mixed types.Specify dtype option on import or set low_memory=False.\n",
            "  exec(code_obj, self.user_global_ns, self.user_ns)\n"
          ]
        }
      ]
    },
    {
      "cell_type": "code",
      "source": [
        "data.info()"
      ],
      "metadata": {
        "colab": {
          "base_uri": "https://localhost:8080/"
        },
        "id": "T7REVLsJE3k7",
        "outputId": "61983a48-a063-4f1f-877d-af602edd616e"
      },
      "execution_count": 4,
      "outputs": [
        {
          "output_type": "stream",
          "name": "stdout",
          "text": [
            "<class 'pandas.core.frame.DataFrame'>\n",
            "RangeIndex: 204668 entries, 0 to 204667\n",
            "Data columns (total 17 columns):\n",
            " #   Column  Non-Null Count   Dtype \n",
            "---  ------  --------------   ----- \n",
            " 0   PMID    204668 non-null  object\n",
            " 1   TI      204668 non-null  object\n",
            " 2   AB      204668 non-null  object\n",
            " 3   AD      204668 non-null  object\n",
            " 4   FAU     204668 non-null  object\n",
            " 5   DP      204668 non-null  object\n",
            " 6   TA      204668 non-null  object\n",
            " 7   JT      204668 non-null  object\n",
            " 8   LA      204668 non-null  object\n",
            " 9   MH      204668 non-null  object\n",
            " 10  OAB     204668 non-null  object\n",
            " 11  OT      204666 non-null  object\n",
            " 12  PL      204668 non-null  object\n",
            " 13  PST     204668 non-null  object\n",
            " 14  PT      204668 non-null  object\n",
            " 15  RN      204668 non-null  object\n",
            " 16  SI      204668 non-null  object\n",
            "dtypes: object(17)\n",
            "memory usage: 26.5+ MB\n"
          ]
        }
      ]
    },
    {
      "cell_type": "code",
      "source": [
        "data.head(5)"
      ],
      "metadata": {
        "colab": {
          "base_uri": "https://localhost:8080/",
          "height": 686
        },
        "id": "rRR-Kw_aE5IJ",
        "outputId": "1cd0efae-9134-42e9-ca17-19894f7650ce"
      },
      "execution_count": 5,
      "outputs": [
        {
          "output_type": "execute_result",
          "data": {
            "text/html": [
              "\n",
              "  <div id=\"df-f9f67801-0938-4c50-87e7-67d3a6561ce3\">\n",
              "    <div class=\"colab-df-container\">\n",
              "      <div>\n",
              "<style scoped>\n",
              "    .dataframe tbody tr th:only-of-type {\n",
              "        vertical-align: middle;\n",
              "    }\n",
              "\n",
              "    .dataframe tbody tr th {\n",
              "        vertical-align: top;\n",
              "    }\n",
              "\n",
              "    .dataframe thead th {\n",
              "        text-align: right;\n",
              "    }\n",
              "</style>\n",
              "<table border=\"1\" class=\"dataframe\">\n",
              "  <thead>\n",
              "    <tr style=\"text-align: right;\">\n",
              "      <th></th>\n",
              "      <th>PMID</th>\n",
              "      <th>TI</th>\n",
              "      <th>AB</th>\n",
              "      <th>AD</th>\n",
              "      <th>FAU</th>\n",
              "      <th>DP</th>\n",
              "      <th>TA</th>\n",
              "      <th>JT</th>\n",
              "      <th>LA</th>\n",
              "      <th>MH</th>\n",
              "      <th>OAB</th>\n",
              "      <th>OT</th>\n",
              "      <th>PL</th>\n",
              "      <th>PST</th>\n",
              "      <th>PT</th>\n",
              "      <th>RN</th>\n",
              "      <th>SI</th>\n",
              "    </tr>\n",
              "  </thead>\n",
              "  <tbody>\n",
              "    <tr>\n",
              "      <th>0</th>\n",
              "      <td>35052023</td>\n",
              "      <td>Does a Mental Health Diagnosis Worsen Outcomes...</td>\n",
              "      <td>NONE</td>\n",
              "      <td>Department of Psychiatry, Icahn School of Medi...</td>\n",
              "      <td>Vadukapuram, Ramu;Mansuri, Zeeshan;Trivedi, Ch...</td>\n",
              "      <td>2022 Jan 20</td>\n",
              "      <td>Prim Care Companion CNS Disord</td>\n",
              "      <td>The primary care companion for CNS disorders</td>\n",
              "      <td>eng</td>\n",
              "      <td>NONE</td>\n",
              "      <td>NONE</td>\n",
              "      <td>NONE</td>\n",
              "      <td>United States</td>\n",
              "      <td>epublish</td>\n",
              "      <td>Journal Article</td>\n",
              "      <td>NONE</td>\n",
              "      <td>NONE</td>\n",
              "    </tr>\n",
              "    <tr>\n",
              "      <th>1</th>\n",
              "      <td>35052021</td>\n",
              "      <td>The Opioid Epidemic and the COVID-19 Pandemic:...</td>\n",
              "      <td>NONE</td>\n",
              "      <td>Department of Psychiatry, AdventHealth Orlando...</td>\n",
              "      <td>Das, Aparna;Padala, Akshay P;Wilson, Kerrie B</td>\n",
              "      <td>2022 Jan 20</td>\n",
              "      <td>Prim Care Companion CNS Disord</td>\n",
              "      <td>The primary care companion for CNS disorders</td>\n",
              "      <td>eng</td>\n",
              "      <td>NONE</td>\n",
              "      <td>NONE</td>\n",
              "      <td>NONE</td>\n",
              "      <td>United States</td>\n",
              "      <td>epublish</td>\n",
              "      <td>Journal Article</td>\n",
              "      <td>NONE</td>\n",
              "      <td>NONE</td>\n",
              "    </tr>\n",
              "    <tr>\n",
              "      <th>2</th>\n",
              "      <td>35052020</td>\n",
              "      <td>Has COVID-19 Complicated Eating Disorder Treat...</td>\n",
              "      <td>Objective: Recent evidence suggests psychosoci...</td>\n",
              "      <td>Medical Department, Alsana, Thousand Oaks, Cal...</td>\n",
              "      <td>Mascolo, Margherita;Duffy, Mary E;Zehring, Bra...</td>\n",
              "      <td>2022 Jan 20</td>\n",
              "      <td>Prim Care Companion CNS Disord</td>\n",
              "      <td>The primary care companion for CNS disorders</td>\n",
              "      <td>eng</td>\n",
              "      <td>Comorbidity;Pandemics;Adult;*COVID-19;Humans;S...</td>\n",
              "      <td>NONE</td>\n",
              "      <td>NONE</td>\n",
              "      <td>United States</td>\n",
              "      <td>epublish</td>\n",
              "      <td>Journal Article</td>\n",
              "      <td>NONE</td>\n",
              "      <td>NONE</td>\n",
              "    </tr>\n",
              "    <tr>\n",
              "      <th>3</th>\n",
              "      <td>35051990</td>\n",
              "      <td>Neutralizing antibodies against the SARS-CoV-2...</td>\n",
              "      <td>The recent emergence of the SARS-CoV-2 Omicron...</td>\n",
              "      <td>Howard Hughes Medical Institute, Chevy Chase, ...</td>\n",
              "      <td>Pearson, Claire;Grubaugh, Nathan D;Monteiro, V...</td>\n",
              "      <td>2022 Jan 20</td>\n",
              "      <td>Nat Med</td>\n",
              "      <td>Nature medicine</td>\n",
              "      <td>eng</td>\n",
              "      <td>NONE</td>\n",
              "      <td>NONE</td>\n",
              "      <td>NONE</td>\n",
              "      <td>United States</td>\n",
              "      <td>aheadofprint</td>\n",
              "      <td>Journal Article</td>\n",
              "      <td>NONE</td>\n",
              "      <td>NONE</td>\n",
              "    </tr>\n",
              "    <tr>\n",
              "      <th>4</th>\n",
              "      <td>35051989</td>\n",
              "      <td>Neutralizing antibodies against the SARS-CoV-2...</td>\n",
              "      <td>The Omicron variant is rapidly becoming the do...</td>\n",
              "      <td>School of Public Health, LKS Faculty of Medici...</td>\n",
              "      <td>Chen, Chunke;Chan, Karl C K;Lau, Eric H Y;Lam,...</td>\n",
              "      <td>2022 Jan 20</td>\n",
              "      <td>Nat Med</td>\n",
              "      <td>Nature medicine</td>\n",
              "      <td>eng</td>\n",
              "      <td>NONE</td>\n",
              "      <td>NONE</td>\n",
              "      <td>NONE</td>\n",
              "      <td>United States</td>\n",
              "      <td>aheadofprint</td>\n",
              "      <td>Journal Article</td>\n",
              "      <td>NONE</td>\n",
              "      <td>NONE</td>\n",
              "    </tr>\n",
              "  </tbody>\n",
              "</table>\n",
              "</div>\n",
              "      <button class=\"colab-df-convert\" onclick=\"convertToInteractive('df-f9f67801-0938-4c50-87e7-67d3a6561ce3')\"\n",
              "              title=\"Convert this dataframe to an interactive table.\"\n",
              "              style=\"display:none;\">\n",
              "        \n",
              "  <svg xmlns=\"http://www.w3.org/2000/svg\" height=\"24px\"viewBox=\"0 0 24 24\"\n",
              "       width=\"24px\">\n",
              "    <path d=\"M0 0h24v24H0V0z\" fill=\"none\"/>\n",
              "    <path d=\"M18.56 5.44l.94 2.06.94-2.06 2.06-.94-2.06-.94-.94-2.06-.94 2.06-2.06.94zm-11 1L8.5 8.5l.94-2.06 2.06-.94-2.06-.94L8.5 2.5l-.94 2.06-2.06.94zm10 10l.94 2.06.94-2.06 2.06-.94-2.06-.94-.94-2.06-.94 2.06-2.06.94z\"/><path d=\"M17.41 7.96l-1.37-1.37c-.4-.4-.92-.59-1.43-.59-.52 0-1.04.2-1.43.59L10.3 9.45l-7.72 7.72c-.78.78-.78 2.05 0 2.83L4 21.41c.39.39.9.59 1.41.59.51 0 1.02-.2 1.41-.59l7.78-7.78 2.81-2.81c.8-.78.8-2.07 0-2.86zM5.41 20L4 18.59l7.72-7.72 1.47 1.35L5.41 20z\"/>\n",
              "  </svg>\n",
              "      </button>\n",
              "      \n",
              "  <style>\n",
              "    .colab-df-container {\n",
              "      display:flex;\n",
              "      flex-wrap:wrap;\n",
              "      gap: 12px;\n",
              "    }\n",
              "\n",
              "    .colab-df-convert {\n",
              "      background-color: #E8F0FE;\n",
              "      border: none;\n",
              "      border-radius: 50%;\n",
              "      cursor: pointer;\n",
              "      display: none;\n",
              "      fill: #1967D2;\n",
              "      height: 32px;\n",
              "      padding: 0 0 0 0;\n",
              "      width: 32px;\n",
              "    }\n",
              "\n",
              "    .colab-df-convert:hover {\n",
              "      background-color: #E2EBFA;\n",
              "      box-shadow: 0px 1px 2px rgba(60, 64, 67, 0.3), 0px 1px 3px 1px rgba(60, 64, 67, 0.15);\n",
              "      fill: #174EA6;\n",
              "    }\n",
              "\n",
              "    [theme=dark] .colab-df-convert {\n",
              "      background-color: #3B4455;\n",
              "      fill: #D2E3FC;\n",
              "    }\n",
              "\n",
              "    [theme=dark] .colab-df-convert:hover {\n",
              "      background-color: #434B5C;\n",
              "      box-shadow: 0px 1px 3px 1px rgba(0, 0, 0, 0.15);\n",
              "      filter: drop-shadow(0px 1px 2px rgba(0, 0, 0, 0.3));\n",
              "      fill: #FFFFFF;\n",
              "    }\n",
              "  </style>\n",
              "\n",
              "      <script>\n",
              "        const buttonEl =\n",
              "          document.querySelector('#df-f9f67801-0938-4c50-87e7-67d3a6561ce3 button.colab-df-convert');\n",
              "        buttonEl.style.display =\n",
              "          google.colab.kernel.accessAllowed ? 'block' : 'none';\n",
              "\n",
              "        async function convertToInteractive(key) {\n",
              "          const element = document.querySelector('#df-f9f67801-0938-4c50-87e7-67d3a6561ce3');\n",
              "          const dataTable =\n",
              "            await google.colab.kernel.invokeFunction('convertToInteractive',\n",
              "                                                     [key], {});\n",
              "          if (!dataTable) return;\n",
              "\n",
              "          const docLinkHtml = 'Like what you see? Visit the ' +\n",
              "            '<a target=\"_blank\" href=https://colab.research.google.com/notebooks/data_table.ipynb>data table notebook</a>'\n",
              "            + ' to learn more about interactive tables.';\n",
              "          element.innerHTML = '';\n",
              "          dataTable['output_type'] = 'display_data';\n",
              "          await google.colab.output.renderOutput(dataTable, element);\n",
              "          const docLink = document.createElement('div');\n",
              "          docLink.innerHTML = docLinkHtml;\n",
              "          element.appendChild(docLink);\n",
              "        }\n",
              "      </script>\n",
              "    </div>\n",
              "  </div>\n",
              "  "
            ],
            "text/plain": [
              "       PMID                                                 TI  ...    RN    SI\n",
              "0  35052023  Does a Mental Health Diagnosis Worsen Outcomes...  ...  NONE  NONE\n",
              "1  35052021  The Opioid Epidemic and the COVID-19 Pandemic:...  ...  NONE  NONE\n",
              "2  35052020  Has COVID-19 Complicated Eating Disorder Treat...  ...  NONE  NONE\n",
              "3  35051990  Neutralizing antibodies against the SARS-CoV-2...  ...  NONE  NONE\n",
              "4  35051989  Neutralizing antibodies against the SARS-CoV-2...  ...  NONE  NONE\n",
              "\n",
              "[5 rows x 17 columns]"
            ]
          },
          "metadata": {},
          "execution_count": 5
        }
      ]
    },
    {
      "cell_type": "code",
      "source": [
        "def none_entries(column):\n",
        "  return dict(column.value_counts()).get('NONE')"
      ],
      "metadata": {
        "id": "V9HwDxPNE6eS"
      },
      "execution_count": 6,
      "outputs": []
    },
    {
      "cell_type": "code",
      "source": [
        "for column in data.columns:\n",
        "  print(f\"Missing entries from {column}-\\t{none_entries(data[column])}\")"
      ],
      "metadata": {
        "colab": {
          "base_uri": "https://localhost:8080/"
        },
        "id": "AX43ETF5FLOP",
        "outputId": "ae001603-a435-42e4-d570-e85cb7863283"
      },
      "execution_count": 7,
      "outputs": [
        {
          "output_type": "stream",
          "name": "stdout",
          "text": [
            "Missing entries from PMID-\t2\n",
            "Missing entries from TI-\t617\n",
            "Missing entries from AB-\t56128\n",
            "Missing entries from AD-\t10258\n",
            "Missing entries from FAU-\t1838\n",
            "Missing entries from DP-\t2\n",
            "Missing entries from TA-\t165\n",
            "Missing entries from JT-\t158\n",
            "Missing entries from LA-\t2\n",
            "Missing entries from MH-\t72505\n",
            "Missing entries from OAB-\t204498\n",
            "Missing entries from OT-\t81220\n",
            "Missing entries from PL-\t23\n",
            "Missing entries from PST-\t158\n",
            "Missing entries from PT-\t2\n",
            "Missing entries from RN-\t158321\n",
            "Missing entries from SI-\t202877\n"
          ]
        }
      ]
    },
    {
      "cell_type": "code",
      "source": [
        "data_mesh_present = data[data['MH']!='NONE']"
      ],
      "metadata": {
        "id": "pDsLDFcSGMi8"
      },
      "execution_count": 8,
      "outputs": []
    },
    {
      "cell_type": "code",
      "source": [
        "data_mesh_present.MH"
      ],
      "metadata": {
        "colab": {
          "base_uri": "https://localhost:8080/"
        },
        "id": "HU5z9AjZGsUs",
        "outputId": "ccf4c59b-69c0-40cd-f385-2ba2bd0a2734"
      },
      "execution_count": 9,
      "outputs": [
        {
          "output_type": "execute_result",
          "data": {
            "text/plain": [
              "2         Comorbidity;Pandemics;Adult;*COVID-19;Humans;S...\n",
              "33        Female;Young Adult;*COVID-19;Humans;SARS-CoV-2...\n",
              "56        *Telemedicine;Pandemics;Referral and Consultat...\n",
              "151       Longitudinal Studies;Anxiety;Depression/epidem...\n",
              "152       Health Status Disparities;*Mental Disorders/ep...\n",
              "                                ...                        \n",
              "204660    SARS Virus;Practice Patterns, Physicians'/*org...\n",
              "204661    COVID-19/drug therapy;Middle Aged;*Motivation;...\n",
              "204665    Advisory Committees;Tuberculosis Vaccines;COVI...\n",
              "204666    SARS Virus/*immunology;Fluorescent Antibody Te...\n",
              "204667    *Disease Outbreaks;*Models, Theoretical;Humans...\n",
              "Name: MH, Length: 132163, dtype: object"
            ]
          },
          "metadata": {},
          "execution_count": 9
        }
      ]
    },
    {
      "cell_type": "markdown",
      "source": [
        "## Average Number of MeSH terms association"
      ],
      "metadata": {
        "id": "ysa8vo0PG4x7"
      }
    },
    {
      "cell_type": "code",
      "source": [
        "def noMeshTerms(entry):\n",
        "  temp = []\n",
        "  for terms in entry.split(';'):\n",
        "    for term in terms.split('/'):\n",
        "      temp.append(term.replace('*', ''))\n",
        "\n",
        "  return len(temp)    "
      ],
      "metadata": {
        "id": "zgJ5RPibG9Hi"
      },
      "execution_count": 10,
      "outputs": []
    },
    {
      "cell_type": "code",
      "source": [
        "term_count = []\n",
        "for entry in data_mesh_present.MH:\n",
        "  term_count.append(noMeshTerms(entry))"
      ],
      "metadata": {
        "id": "TX9q5oofG1bk"
      },
      "execution_count": 11,
      "outputs": []
    },
    {
      "cell_type": "code",
      "source": [
        "from scipy.stats import norm"
      ],
      "metadata": {
        "id": "Gm5lWiltIxGv"
      },
      "execution_count": 12,
      "outputs": []
    },
    {
      "cell_type": "code",
      "source": [
        "sns.distplot(term_count, fit=norm, kde=True)"
      ],
      "metadata": {
        "colab": {
          "base_uri": "https://localhost:8080/",
          "height": 339
        },
        "id": "H4GNKQ0cHHbV",
        "outputId": "59a59176-457f-4ab3-e65a-68e5ca08a3ad"
      },
      "execution_count": 13,
      "outputs": [
        {
          "output_type": "stream",
          "name": "stderr",
          "text": [
            "/usr/local/lib/python3.7/dist-packages/seaborn/distributions.py:2619: FutureWarning: `distplot` is a deprecated function and will be removed in a future version. Please adapt your code to use either `displot` (a figure-level function with similar flexibility) or `histplot` (an axes-level function for histograms).\n",
            "  warnings.warn(msg, FutureWarning)\n"
          ]
        },
        {
          "output_type": "execute_result",
          "data": {
            "text/plain": [
              "<matplotlib.axes._subplots.AxesSubplot at 0x7fda79a75290>"
            ]
          },
          "metadata": {},
          "execution_count": 13
        },
        {
          "output_type": "display_data",
          "data": {
            "image/png": "[encoded data removed]",
            "text/plain": [
              "<Figure size 432x288 with 1 Axes>"
            ]
          },
          "metadata": {
            "needs_background": "light"
          }
        }
      ]
    },
    {
      "cell_type": "code",
      "source": [
        "import numpy as np\n",
        "\n",
        "np.mean(term_count)"
      ],
      "metadata": {
        "colab": {
          "base_uri": "https://localhost:8080/"
        },
        "id": "SNuGwhhnIuqQ",
        "outputId": "d334f513-0162-401c-f8f3-4c4d2b345fb9"
      },
      "execution_count": 14,
      "outputs": [
        {
          "output_type": "execute_result",
          "data": {
            "text/plain": [
              "16.934951537117044"
            ]
          },
          "metadata": {},
          "execution_count": 14
        }
      ]
    },
    {
      "cell_type": "code",
      "source": [
        "entry = data_mesh_present.MH[2]"
      ],
      "metadata": {
        "id": "dxhtdnNx94dd"
      },
      "execution_count": 15,
      "outputs": []
    },
    {
      "cell_type": "code",
      "source": [
        "G = nx.Graph()\n",
        "\n",
        "for pmid, entry in zip(data_mesh_present.PMID, data_mesh_present.MH):\n",
        "  main_node = str(pmid).strip()\n",
        "  G.add_node(main_node)\n",
        "\n",
        "  for terms in entry.split(';'):\n",
        "    terms_list = terms.split('/')\n",
        "\n",
        "    if (len(terms_list))==1:\n",
        "      primary = terms_list[0].replace('*', '')\n",
        "      if G.has_node(primary):\n",
        "        G.add_edge(main_node, primary)\n",
        "      else:\n",
        "        G.add_node(primary)\n",
        "        G.add_edge(main_node, primary)\n",
        "\n",
        "    else:\n",
        "      primary = terms_list[0].replace('*', '')\n",
        "      if G.has_node(primary):\n",
        "        G.add_edge(main_node, primary)\n",
        "      else:\n",
        "        G.add_node(primary)\n",
        "        G.add_edge(main_node, primary)\n",
        "\n",
        "      secondary = terms_list[1:]\n",
        "      for term in secondary:\n",
        "        term = term.replace('*', '')\n",
        "        if G.has_node(term):\n",
        "          G.add_edge(main_node, term)\n",
        "        else:\n",
        "          G.add_node(term)\n",
        "          G.add_edge(main_node, term)"
      ],
      "metadata": {
        "id": "bt5VjNDkI9Nd"
      },
      "execution_count": 16,
      "outputs": []
    },
    {
      "cell_type": "code",
      "source": [
        "G.number_of_nodes()"
      ],
      "metadata": {
        "colab": {
          "base_uri": "https://localhost:8080/"
        },
        "id": "9IDWoKJ8jQxm",
        "outputId": "b90a0f56-066e-4354-ebde-9ba25d992005"
      },
      "execution_count": 17,
      "outputs": [
        {
          "output_type": "execute_result",
          "data": {
            "text/plain": [
              "146985"
            ]
          },
          "metadata": {},
          "execution_count": 17
        }
      ]
    },
    {
      "cell_type": "markdown",
      "source": [
        "## Shape Of The Network"
      ],
      "metadata": {
        "id": "4FT6aQtSNUrR"
      }
    },
    {
      "cell_type": "code",
      "source": [
        "G.number_of_nodes()"
      ],
      "metadata": {
        "colab": {
          "base_uri": "https://localhost:8080/"
        },
        "id": "p3Zt47ZZ_55T",
        "outputId": "edfac12f-4d94-44cc-f667-3b438fc072b2"
      },
      "execution_count": 18,
      "outputs": [
        {
          "output_type": "execute_result",
          "data": {
            "text/plain": [
              "146985"
            ]
          },
          "metadata": {},
          "execution_count": 18
        }
      ]
    },
    {
      "cell_type": "code",
      "source": [
        "G.number_of_edges()"
      ],
      "metadata": {
        "colab": {
          "base_uri": "https://localhost:8080/"
        },
        "id": "iGwZXYayDI9S",
        "outputId": "994b1a6b-5d50-4664-c21b-6f24c2332bad"
      },
      "execution_count": 19,
      "outputs": [
        {
          "output_type": "execute_result",
          "data": {
            "text/plain": [
              "1882993"
            ]
          },
          "metadata": {},
          "execution_count": 19
        }
      ]
    },
    {
      "cell_type": "code",
      "source": [
        "density = nx.density(G)\n",
        "print(\"Network density:\", round(density, 6))"
      ],
      "metadata": {
        "colab": {
          "base_uri": "https://localhost:8080/"
        },
        "id": "Pu68H8RrNZm2",
        "outputId": "d883fc3a-6d5f-4b9e-8c18-ff826f0f6d33"
      },
      "execution_count": 20,
      "outputs": [
        {
          "output_type": "stream",
          "name": "stdout",
          "text": [
            "Network density: 0.000174\n"
          ]
        }
      ]
    },
    {
      "cell_type": "markdown",
      "source": [
        "## Centrality"
      ],
      "metadata": {
        "id": "aKVHMgQMH-Rp"
      }
    },
    {
      "cell_type": "code",
      "source": [
        "from operator import itemgetter"
      ],
      "metadata": {
        "id": "WgTdGeSMIvvq"
      },
      "execution_count": 21,
      "outputs": []
    },
    {
      "cell_type": "code",
      "source": [
        "degree_dict = dict(G.degree(G.nodes()))\n",
        "nx.set_node_attributes(G, degree_dict, 'degree')\n",
        "sorted_degree = sorted(degree_dict.items(), key=itemgetter(1), reverse=True)"
      ],
      "metadata": {
        "id": "x-Q9mWVoIAMf"
      },
      "execution_count": 22,
      "outputs": []
    },
    {
      "cell_type": "code",
      "source": [
        "len(sorted_degree)"
      ],
      "metadata": {
        "colab": {
          "base_uri": "https://localhost:8080/"
        },
        "id": "8CQBHfZDJvNy",
        "outputId": "9c3ef2b5-c875-46ba-b0d4-c93a4c93ac5d"
      },
      "execution_count": 23,
      "outputs": [
        {
          "output_type": "execute_result",
          "data": {
            "text/plain": [
              "146985"
            ]
          },
          "metadata": {},
          "execution_count": 23
        }
      ]
    },
    {
      "cell_type": "code",
      "source": [
        "sorted_degree[0]"
      ],
      "metadata": {
        "colab": {
          "base_uri": "https://localhost:8080/"
        },
        "id": "lbHb3JwyJ0uZ",
        "outputId": "c7fe9c0f-2ed3-47b9-8d9f-51ad0d121d29"
      },
      "execution_count": 24,
      "outputs": [
        {
          "output_type": "execute_result",
          "data": {
            "text/plain": [
              "('Humans', 130253)"
            ]
          },
          "metadata": {},
          "execution_count": 24
        }
      ]
    },
    {
      "cell_type": "code",
      "source": [
        "np.sqrt(146985)"
      ],
      "metadata": {
        "colab": {
          "base_uri": "https://localhost:8080/"
        },
        "id": "aIpSPixMOkMY",
        "outputId": "98f25991-1418-4b42-e9d8-5b5432c84f47"
      },
      "execution_count": 25,
      "outputs": [
        {
          "output_type": "execute_result",
          "data": {
            "text/plain": [
              "383.38622823466153"
            ]
          },
          "metadata": {},
          "execution_count": 25
        }
      ]
    },
    {
      "cell_type": "code",
      "source": [
        "top = 50\n",
        "print(f\"Top {top} nodes by degree:\")\n",
        "for d in sorted_degree[:top]:\n",
        "    print(d)"
      ],
      "metadata": {
        "colab": {
          "base_uri": "https://localhost:8080/"
        },
        "id": "a1wBGB8SIFKX",
        "outputId": "c4d615f3-977d-4d8c-cb65-77b4c5d6f5f8"
      },
      "execution_count": 26,
      "outputs": [
        {
          "output_type": "stream",
          "name": "stdout",
          "text": [
            "Top 50 nodes by degree:\n",
            "('Humans', 130253)\n",
            "('COVID-19', 127943)\n",
            "('SARS-CoV-2', 101980)\n",
            "('Pandemics', 67930)\n",
            "('epidemiology', 52684)\n",
            "('Coronavirus Infections', 40055)\n",
            "('Pneumonia, Viral', 39919)\n",
            "('Female', 36195)\n",
            "('Male', 33946)\n",
            "('Betacoronavirus', 33175)\n",
            "('prevention & control', 25135)\n",
            "('Adult', 23759)\n",
            "('Middle Aged', 23662)\n",
            "('virology', 20611)\n",
            "('diagnosis', 20406)\n",
            "('methods', 19589)\n",
            "('Aged', 19421)\n",
            "('therapy', 16705)\n",
            "('complications', 14891)\n",
            "('statistics & numerical data', 14222)\n",
            "('drug therapy', 13294)\n",
            "('immunology', 11367)\n",
            "('therapeutic use', 10976)\n",
            "('Retrospective Studies', 9935)\n",
            "('isolation & purification', 9832)\n",
            "('psychology', 9741)\n",
            "('genetics', 9313)\n",
            "('etiology', 9058)\n",
            "('Young Adult', 8866)\n",
            "('Adolescent', 8768)\n",
            "('Child', 8493)\n",
            "('transmission', 8478)\n",
            "('metabolism', 8384)\n",
            "('organization & administration', 8254)\n",
            "('COVID-19 Vaccines', 7754)\n",
            "('Aged, 80 and over', 7647)\n",
            "('United States', 7434)\n",
            "('blood', 7198)\n",
            "('Cross-Sectional Studies', 6969)\n",
            "('Risk Factors', 6826)\n",
            "('mortality', 6786)\n",
            "('adverse effects', 6355)\n",
            "('pathology', 6284)\n",
            "('Animals', 6277)\n",
            "('China', 6222)\n",
            "('physiology', 5939)\n",
            "('Surveys and Questionnaires', 5838)\n",
            "('standards', 5777)\n",
            "('COVID-19 Testing', 5684)\n",
            "('Communicable Disease Control', 5359)\n"
          ]
        }
      ]
    },
    {
      "cell_type": "code",
      "source": [
        "top = 10\n",
        "top_fifty_nodes = sorted_degree[:top]"
      ],
      "metadata": {
        "id": "KRD0ZDaRjpL8"
      },
      "execution_count": 27,
      "outputs": []
    },
    {
      "cell_type": "code",
      "source": [
        "mesh_nodes = list()\n",
        "degrees = list()\n",
        "\n",
        "for mesh_node, degree in top_fifty_nodes:\n",
        "  mesh_nodes.append(mesh_node)\n",
        "  degrees.append(degree)"
      ],
      "metadata": {
        "id": "WeFPoAyzj1By"
      },
      "execution_count": 28,
      "outputs": []
    },
    {
      "cell_type": "code",
      "source": [
        "plt.plot(mesh_nodes, degrees)"
      ],
      "metadata": {
        "colab": {
          "base_uri": "https://localhost:8080/",
          "height": 283
        },
        "id": "4UNev80cj1Qk",
        "outputId": "71a0f1b0-416b-49e8-94b0-176de9a80328"
      },
      "execution_count": 29,
      "outputs": [
        {
          "output_type": "execute_result",
          "data": {
            "text/plain": [
              "[<matplotlib.lines.Line2D at 0x7fda4a96b990>]"
            ]
          },
          "metadata": {},
          "execution_count": 29
        },
        {
          "output_type": "display_data",
          "data": {
            "image/png": "[encoded data removed]",
            "text/plain": [
              "<Figure size 432x288 with 1 Axes>"
            ]
          },
          "metadata": {
            "needs_background": "light"
          }
        }
      ]
    },
    {
      "cell_type": "code",
      "source": [
        "sns.relplot(x=mesh_nodes, y=degrees, kind=\"line\")"
      ],
      "metadata": {
        "colab": {
          "base_uri": "https://localhost:8080/",
          "height": 387
        },
        "id": "GVM18fCpj1S7",
        "outputId": "dee405c1-d40c-4d48-a338-cfd27654f1e8"
      },
      "execution_count": 30,
      "outputs": [
        {
          "output_type": "execute_result",
          "data": {
            "text/plain": [
              "<seaborn.axisgrid.FacetGrid at 0x7fda4a922a90>"
            ]
          },
          "metadata": {},
          "execution_count": 30
        },
        {
          "output_type": "display_data",
          "data": {
            "image/png": "[encoded data removed]",
            "text/plain": [
              "<Figure size 360x360 with 1 Axes>"
            ]
          },
          "metadata": {
            "needs_background": "light"
          }
        }
      ]
    },
    {
      "cell_type": "code",
      "source": [
        "for node, value in sorted_degree[:10]:\n",
        "  print(value/146985)"
      ],
      "metadata": {
        "colab": {
          "base_uri": "https://localhost:8080/"
        },
        "id": "nNTWeYLHP4uQ",
        "outputId": "a2c1f143-7d49-4d73-fc1e-e8e4fc947352"
      },
      "execution_count": 31,
      "outputs": [
        {
          "output_type": "stream",
          "name": "stdout",
          "text": [
            "0.8861652549579889\n",
            "0.870449365581522\n",
            "0.6938122937714732\n",
            "0.46215600231316123\n",
            "0.35843113242847907\n",
            "0.27251080042181175\n",
            "0.2715855359390414\n",
            "0.24624961730788855\n",
            "0.23094873626560533\n",
            "0.22570330305813519\n"
          ]
        }
      ]
    },
    {
      "cell_type": "code",
      "source": [
        "hist_values = [value/146985 for node, value in sorted_degree]"
      ],
      "metadata": {
        "id": "Vwli0xYmOt9W"
      },
      "execution_count": 32,
      "outputs": []
    },
    {
      "cell_type": "code",
      "source": [
        "hist_values[:10]"
      ],
      "metadata": {
        "colab": {
          "base_uri": "https://localhost:8080/"
        },
        "id": "INc1GqdXQERP",
        "outputId": "7405294f-7ae9-4291-e0d3-1125d41af4de"
      },
      "execution_count": 33,
      "outputs": [
        {
          "output_type": "execute_result",
          "data": {
            "text/plain": [
              "[0.8861652549579889,\n",
              " 0.870449365581522,\n",
              " 0.6938122937714732,\n",
              " 0.46215600231316123,\n",
              " 0.35843113242847907,\n",
              " 0.27251080042181175,\n",
              " 0.2715855359390414,\n",
              " 0.24624961730788855,\n",
              " 0.23094873626560533,\n",
              " 0.22570330305813519]"
            ]
          },
          "metadata": {},
          "execution_count": 33
        }
      ]
    },
    {
      "cell_type": "code",
      "source": [
        "plt.plot(hist_values)\n",
        "plt.title('degree centralities')\n",
        "plt.show()"
      ],
      "metadata": {
        "colab": {
          "base_uri": "https://localhost:8080/",
          "height": 281
        },
        "id": "TwVwR_PhDMeF",
        "outputId": "1644a762-35c7-4afd-d9df-024892287359"
      },
      "execution_count": 34,
      "outputs": [
        {
          "output_type": "display_data",
          "data": {
            "image/png": "[encoded data removed]",
            "text/plain": [
              "<Figure size 432x288 with 1 Axes>"
            ]
          },
          "metadata": {
            "needs_background": "light"
          }
        }
      ]
    },
    {
      "cell_type": "code",
      "source": [
        "sns.scatterplot(hist_values)"
      ],
      "metadata": {
        "id": "a08AITUUQQl2",
        "outputId": "9551748a-31d4-4fce-a0fc-0449d98c390e",
        "colab": {
          "base_uri": "https://localhost:8080/",
          "height": 339
        }
      },
      "execution_count": 35,
      "outputs": [
        {
          "output_type": "stream",
          "name": "stderr",
          "text": [
            "/usr/local/lib/python3.7/dist-packages/seaborn/_decorators.py:43: FutureWarning: Pass the following variable as a keyword arg: x. From version 0.12, the only valid positional argument will be `data`, and passing other arguments without an explicit keyword will result in an error or misinterpretation.\n",
            "  FutureWarning\n"
          ]
        },
        {
          "output_type": "execute_result",
          "data": {
            "text/plain": [
              "<matplotlib.axes._subplots.AxesSubplot at 0x7fda4a345590>"
            ]
          },
          "metadata": {},
          "execution_count": 35
        },
        {
          "output_type": "display_data",
          "data": {
            "image/png": "[encoded data removed]",
            "text/plain": [
              "<Figure size 432x288 with 1 Axes>"
            ]
          },
          "metadata": {
            "needs_background": "light"
          }
        }
      ]
    },
    {
      "cell_type": "code",
      "source": [
        ""
      ],
      "metadata": {
        "id": "PUjz4NpSDRtJ"
      },
      "execution_count": 35,
      "outputs": []
    }
  ]
}