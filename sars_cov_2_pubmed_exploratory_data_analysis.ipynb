{
  "nbformat": 4,
  "nbformat_minor": 0,
  "metadata": {
    "colab": {
      "name": "P02-twohundredthousand-covid-19-literature.ipynb",
      "provenance": [],
      "collapsed_sections": [],
      "mount_file_id": "1057UCgRif8tZGSoL3gX4oJp_YRVD105_",
      "authorship_tag": "ABX9TyO2fwRaXZJNjbfuLDd2usRj"
    },
    "kernelspec": {
      "name": "python3",
      "display_name": "Python 3"
    },
    "language_info": {
      "name": "python"
    }
  },
  "cells": [
    {
      "cell_type": "markdown",
      "source": [
        "# Processing PubMed Articles Related To Covid 19\n",
        "\n",
        "- https://www.december.com/html/spec/httpstat.html\n",
        "- https://erilu.github.io/pubmed-abstract-compiler/\n",
        "- https://www.ncbi.nlm.nih.gov/books/NBK25500/\n",
        "- https://www.ncbi.nlm.nih.gov/books/NBK25499/\n",
        "- https://www.nlm.nih.gov/bsd/mms/medlineelements.html"
      ],
      "metadata": {
        "id": "3QwpGLzKJF-D"
      }
    },
    {
      "cell_type": "code",
      "execution_count": null,
      "metadata": {
        "id": "cWA2Ikg_kF2E"
      },
      "outputs": [],
      "source": [
        "import pandas as pd\n",
        "import numpy as np\n",
        "\n",
        "import matplotlib.pyplot as plt\n",
        "import seaborn as sns\n",
        "\n",
        "from pprint import pprint\n",
        "from tqdm import tqdm\n",
        "import time\n",
        "from collections import Counter\n",
        "\n",
        "import re\n",
        "import requests\n",
        "import urllib\n",
        "\n",
        "import nltk\n",
        "from nltk import word_tokenize\n",
        "from nltk.corpus import stopwords\n",
        "from string import punctuation\n",
        "\n",
        "from sklearn.manifold import TSNE\n",
        "from sklearn.decomposition import KernelPCA\n",
        "from sklearn.feature_extraction.text import TfidfVectorizer, CountVectorizer"
      ]
    },
    {
      "cell_type": "code",
      "source": [
        "nltk.download('stopwords')\n",
        "nltk.download('punkt')\n",
        "\n",
        "plt.style.use('fivethirtyeight')\n",
        "%matplotlib inline"
      ],
      "metadata": {
        "colab": {
          "base_uri": "https://localhost:8080/"
        },
        "id": "JtVXfNlyKJsa",
        "outputId": "aefb1269-f0ef-4e60-b3da-2996b3ba41f2"
      },
      "execution_count": null,
      "outputs": [
        {
          "output_type": "stream",
          "name": "stdout",
          "text": [
            "[nltk_data] Downloading package stopwords to /root/nltk_data...\n",
            "[nltk_data]   Unzipping corpora/stopwords.zip.\n",
            "[nltk_data] Downloading package punkt to /root/nltk_data...\n",
            "[nltk_data]   Unzipping tokenizers/punkt.zip.\n"
          ]
        }
      ]
    },
    {
      "cell_type": "code",
      "source": [
        "file_path = \"/content/drive/MyDrive/04-Work/EDA-Comparison-21st-Epidemics-PubMed/all-covid-19-pubmed-metadata.csv\""
      ],
      "metadata": {
        "id": "XpNmV4cTkQsP"
      },
      "execution_count": null,
      "outputs": []
    },
    {
      "cell_type": "code",
      "source": [
        "covid_df = pd.read_csv(file_path)"
      ],
      "metadata": {
        "id": "4sbWI3vCkc2d",
        "colab": {
          "base_uri": "https://localhost:8080/"
        },
        "outputId": "f2379a12-f6a8-46c4-89f9-608ba766b4e7"
      },
      "execution_count": null,
      "outputs": [
        {
          "output_type": "stream",
          "name": "stderr",
          "text": [
            "/usr/local/lib/python3.7/dist-packages/IPython/core/interactiveshell.py:2718: DtypeWarning: Columns (0) have mixed types.Specify dtype option on import or set low_memory=False.\n",
            "  interactivity=interactivity, compiler=compiler, result=result)\n"
          ]
        }
      ]
    },
    {
      "cell_type": "code",
      "source": [
        "covid_df.info()"
      ],
      "metadata": {
        "colab": {
          "base_uri": "https://localhost:8080/"
        },
        "id": "lLCS5UjFI4VS",
        "outputId": "c4b3b040-6e53-4288-c0ee-75a03324965b"
      },
      "execution_count": null,
      "outputs": [
        {
          "output_type": "stream",
          "name": "stdout",
          "text": [
            "<class 'pandas.core.frame.DataFrame'>\n",
            "RangeIndex: 204668 entries, 0 to 204667\n",
            "Data columns (total 17 columns):\n",
            " #   Column  Non-Null Count   Dtype \n",
            "---  ------  --------------   ----- \n",
            " 0   PMID    204668 non-null  object\n",
            " 1   TI      204668 non-null  object\n",
            " 2   AB      204668 non-null  object\n",
            " 3   AD      204668 non-null  object\n",
            " 4   FAU     204668 non-null  object\n",
            " 5   DP      204668 non-null  object\n",
            " 6   TA      204668 non-null  object\n",
            " 7   JT      204668 non-null  object\n",
            " 8   LA      204668 non-null  object\n",
            " 9   MH      204668 non-null  object\n",
            " 10  OAB     204668 non-null  object\n",
            " 11  OT      204666 non-null  object\n",
            " 12  PL      204668 non-null  object\n",
            " 13  PST     204668 non-null  object\n",
            " 14  PT      204668 non-null  object\n",
            " 15  RN      204668 non-null  object\n",
            " 16  SI      204668 non-null  object\n",
            "dtypes: object(17)\n",
            "memory usage: 26.5+ MB\n"
          ]
        }
      ]
    },
    {
      "cell_type": "code",
      "source": [
        "covid_df.head()"
      ],
      "metadata": {
        "colab": {
          "base_uri": "https://localhost:8080/",
          "height": 686
        },
        "id": "ffeZgZbCkkvN",
        "outputId": "8930b489-fd11-4cd2-d426-99d41e8b986f"
      },
      "execution_count": null,
      "outputs": [
        {
          "output_type": "execute_result",
          "data": {
            "text/html": [
              "\n",
              "  <div id=\"df-dd378e8f-937e-436b-b6f2-2111d396a58e\">\n",
              "    <div class=\"colab-df-container\">\n",
              "      <div>\n",
              "<style scoped>\n",
              "    .dataframe tbody tr th:only-of-type {\n",
              "        vertical-align: middle;\n",
              "    }\n",
              "\n",
              "    .dataframe tbody tr th {\n",
              "        vertical-align: top;\n",
              "    }\n",
              "\n",
              "    .dataframe thead th {\n",
              "        text-align: right;\n",
              "    }\n",
              "</style>\n",
              "<table border=\"1\" class=\"dataframe\">\n",
              "  <thead>\n",
              "    <tr style=\"text-align: right;\">\n",
              "      <th></th>\n",
              "      <th>PMID</th>\n",
              "      <th>TI</th>\n",
              "      <th>AB</th>\n",
              "      <th>AD</th>\n",
              "      <th>FAU</th>\n",
              "      <th>DP</th>\n",
              "      <th>TA</th>\n",
              "      <th>JT</th>\n",
              "      <th>LA</th>\n",
              "      <th>MH</th>\n",
              "      <th>OAB</th>\n",
              "      <th>OT</th>\n",
              "      <th>PL</th>\n",
              "      <th>PST</th>\n",
              "      <th>PT</th>\n",
              "      <th>RN</th>\n",
              "      <th>SI</th>\n",
              "    </tr>\n",
              "  </thead>\n",
              "  <tbody>\n",
              "    <tr>\n",
              "      <th>0</th>\n",
              "      <td>35052023</td>\n",
              "      <td>Does a Mental Health Diagnosis Worsen Outcomes...</td>\n",
              "      <td>NONE</td>\n",
              "      <td>Department of Psychiatry, Icahn School of Medi...</td>\n",
              "      <td>Vadukapuram, Ramu;Mansuri, Zeeshan;Trivedi, Ch...</td>\n",
              "      <td>2022 Jan 20</td>\n",
              "      <td>Prim Care Companion CNS Disord</td>\n",
              "      <td>The primary care companion for CNS disorders</td>\n",
              "      <td>eng</td>\n",
              "      <td>NONE</td>\n",
              "      <td>NONE</td>\n",
              "      <td>NONE</td>\n",
              "      <td>United States</td>\n",
              "      <td>epublish</td>\n",
              "      <td>Journal Article</td>\n",
              "      <td>NONE</td>\n",
              "      <td>NONE</td>\n",
              "    </tr>\n",
              "    <tr>\n",
              "      <th>1</th>\n",
              "      <td>35052021</td>\n",
              "      <td>The Opioid Epidemic and the COVID-19 Pandemic:...</td>\n",
              "      <td>NONE</td>\n",
              "      <td>Department of Psychiatry, AdventHealth Orlando...</td>\n",
              "      <td>Das, Aparna;Padala, Akshay P;Wilson, Kerrie B</td>\n",
              "      <td>2022 Jan 20</td>\n",
              "      <td>Prim Care Companion CNS Disord</td>\n",
              "      <td>The primary care companion for CNS disorders</td>\n",
              "      <td>eng</td>\n",
              "      <td>NONE</td>\n",
              "      <td>NONE</td>\n",
              "      <td>NONE</td>\n",
              "      <td>United States</td>\n",
              "      <td>epublish</td>\n",
              "      <td>Journal Article</td>\n",
              "      <td>NONE</td>\n",
              "      <td>NONE</td>\n",
              "    </tr>\n",
              "    <tr>\n",
              "      <th>2</th>\n",
              "      <td>35052020</td>\n",
              "      <td>Has COVID-19 Complicated Eating Disorder Treat...</td>\n",
              "      <td>Objective: Recent evidence suggests psychosoci...</td>\n",
              "      <td>Medical Department, Alsana, Thousand Oaks, Cal...</td>\n",
              "      <td>Mascolo, Margherita;Duffy, Mary E;Zehring, Bra...</td>\n",
              "      <td>2022 Jan 20</td>\n",
              "      <td>Prim Care Companion CNS Disord</td>\n",
              "      <td>The primary care companion for CNS disorders</td>\n",
              "      <td>eng</td>\n",
              "      <td>Comorbidity;Pandemics;Adult;*COVID-19;Humans;S...</td>\n",
              "      <td>NONE</td>\n",
              "      <td>NONE</td>\n",
              "      <td>United States</td>\n",
              "      <td>epublish</td>\n",
              "      <td>Journal Article</td>\n",
              "      <td>NONE</td>\n",
              "      <td>NONE</td>\n",
              "    </tr>\n",
              "    <tr>\n",
              "      <th>3</th>\n",
              "      <td>35051990</td>\n",
              "      <td>Neutralizing antibodies against the SARS-CoV-2...</td>\n",
              "      <td>The recent emergence of the SARS-CoV-2 Omicron...</td>\n",
              "      <td>Howard Hughes Medical Institute, Chevy Chase, ...</td>\n",
              "      <td>Pearson, Claire;Grubaugh, Nathan D;Monteiro, V...</td>\n",
              "      <td>2022 Jan 20</td>\n",
              "      <td>Nat Med</td>\n",
              "      <td>Nature medicine</td>\n",
              "      <td>eng</td>\n",
              "      <td>NONE</td>\n",
              "      <td>NONE</td>\n",
              "      <td>NONE</td>\n",
              "      <td>United States</td>\n",
              "      <td>aheadofprint</td>\n",
              "      <td>Journal Article</td>\n",
              "      <td>NONE</td>\n",
              "      <td>NONE</td>\n",
              "    </tr>\n",
              "    <tr>\n",
              "      <th>4</th>\n",
              "      <td>35051989</td>\n",
              "      <td>Neutralizing antibodies against the SARS-CoV-2...</td>\n",
              "      <td>The Omicron variant is rapidly becoming the do...</td>\n",
              "      <td>School of Public Health, LKS Faculty of Medici...</td>\n",
              "      <td>Chen, Chunke;Chan, Karl C K;Lau, Eric H Y;Lam,...</td>\n",
              "      <td>2022 Jan 20</td>\n",
              "      <td>Nat Med</td>\n",
              "      <td>Nature medicine</td>\n",
              "      <td>eng</td>\n",
              "      <td>NONE</td>\n",
              "      <td>NONE</td>\n",
              "      <td>NONE</td>\n",
              "      <td>United States</td>\n",
              "      <td>aheadofprint</td>\n",
              "      <td>Journal Article</td>\n",
              "      <td>NONE</td>\n",
              "      <td>NONE</td>\n",
              "    </tr>\n",
              "  </tbody>\n",
              "</table>\n",
              "</div>\n",
              "      <button class=\"colab-df-convert\" onclick=\"convertToInteractive('df-dd378e8f-937e-436b-b6f2-2111d396a58e')\"\n",
              "              title=\"Convert this dataframe to an interactive table.\"\n",
              "              style=\"display:none;\">\n",
              "        \n",
              "  <svg xmlns=\"http://www.w3.org/2000/svg\" height=\"24px\"viewBox=\"0 0 24 24\"\n",
              "       width=\"24px\">\n",
              "    <path d=\"M0 0h24v24H0V0z\" fill=\"none\"/>\n",
              "    <path d=\"M18.56 5.44l.94 2.06.94-2.06 2.06-.94-2.06-.94-.94-2.06-.94 2.06-2.06.94zm-11 1L8.5 8.5l.94-2.06 2.06-.94-2.06-.94L8.5 2.5l-.94 2.06-2.06.94zm10 10l.94 2.06.94-2.06 2.06-.94-2.06-.94-.94-2.06-.94 2.06-2.06.94z\"/><path d=\"M17.41 7.96l-1.37-1.37c-.4-.4-.92-.59-1.43-.59-.52 0-1.04.2-1.43.59L10.3 9.45l-7.72 7.72c-.78.78-.78 2.05 0 2.83L4 21.41c.39.39.9.59 1.41.59.51 0 1.02-.2 1.41-.59l7.78-7.78 2.81-2.81c.8-.78.8-2.07 0-2.86zM5.41 20L4 18.59l7.72-7.72 1.47 1.35L5.41 20z\"/>\n",
              "  </svg>\n",
              "      </button>\n",
              "      \n",
              "  <style>\n",
              "    .colab-df-container {\n",
              "      display:flex;\n",
              "      flex-wrap:wrap;\n",
              "      gap: 12px;\n",
              "    }\n",
              "\n",
              "    .colab-df-convert {\n",
              "      background-color: #E8F0FE;\n",
              "      border: none;\n",
              "      border-radius: 50%;\n",
              "      cursor: pointer;\n",
              "      display: none;\n",
              "      fill: #1967D2;\n",
              "      height: 32px;\n",
              "      padding: 0 0 0 0;\n",
              "      width: 32px;\n",
              "    }\n",
              "\n",
              "    .colab-df-convert:hover {\n",
              "      background-color: #E2EBFA;\n",
              "      box-shadow: 0px 1px 2px rgba(60, 64, 67, 0.3), 0px 1px 3px 1px rgba(60, 64, 67, 0.15);\n",
              "      fill: #174EA6;\n",
              "    }\n",
              "\n",
              "    [theme=dark] .colab-df-convert {\n",
              "      background-color: #3B4455;\n",
              "      fill: #D2E3FC;\n",
              "    }\n",
              "\n",
              "    [theme=dark] .colab-df-convert:hover {\n",
              "      background-color: #434B5C;\n",
              "      box-shadow: 0px 1px 3px 1px rgba(0, 0, 0, 0.15);\n",
              "      filter: drop-shadow(0px 1px 2px rgba(0, 0, 0, 0.3));\n",
              "      fill: #FFFFFF;\n",
              "    }\n",
              "  </style>\n",
              "\n",
              "      <script>\n",
              "        const buttonEl =\n",
              "          document.querySelector('#df-dd378e8f-937e-436b-b6f2-2111d396a58e button.colab-df-convert');\n",
              "        buttonEl.style.display =\n",
              "          google.colab.kernel.accessAllowed ? 'block' : 'none';\n",
              "\n",
              "        async function convertToInteractive(key) {\n",
              "          const element = document.querySelector('#df-dd378e8f-937e-436b-b6f2-2111d396a58e');\n",
              "          const dataTable =\n",
              "            await google.colab.kernel.invokeFunction('convertToInteractive',\n",
              "                                                     [key], {});\n",
              "          if (!dataTable) return;\n",
              "\n",
              "          const docLinkHtml = 'Like what you see? Visit the ' +\n",
              "            '<a target=\"_blank\" href=https://colab.research.google.com/notebooks/data_table.ipynb>data table notebook</a>'\n",
              "            + ' to learn more about interactive tables.';\n",
              "          element.innerHTML = '';\n",
              "          dataTable['output_type'] = 'display_data';\n",
              "          await google.colab.output.renderOutput(dataTable, element);\n",
              "          const docLink = document.createElement('div');\n",
              "          docLink.innerHTML = docLinkHtml;\n",
              "          element.appendChild(docLink);\n",
              "        }\n",
              "      </script>\n",
              "    </div>\n",
              "  </div>\n",
              "  "
            ],
            "text/plain": [
              "       PMID                                                 TI  ...    RN    SI\n",
              "0  35052023  Does a Mental Health Diagnosis Worsen Outcomes...  ...  NONE  NONE\n",
              "1  35052021  The Opioid Epidemic and the COVID-19 Pandemic:...  ...  NONE  NONE\n",
              "2  35052020  Has COVID-19 Complicated Eating Disorder Treat...  ...  NONE  NONE\n",
              "3  35051990  Neutralizing antibodies against the SARS-CoV-2...  ...  NONE  NONE\n",
              "4  35051989  Neutralizing antibodies against the SARS-CoV-2...  ...  NONE  NONE\n",
              "\n",
              "[5 rows x 17 columns]"
            ]
          },
          "metadata": {},
          "execution_count": 6
        }
      ]
    },
    {
      "cell_type": "markdown",
      "source": [
        "## Authors"
      ],
      "metadata": {
        "id": "nO6H5XAD7yLN"
      }
    },
    {
      "cell_type": "code",
      "source": [
        "authors_counts = list()\n",
        "below_75_authors_counts = list()\n",
        "above_75_authors_counts = list()\n",
        "\n",
        "for authors in covid_df.FAU:\n",
        "  count = len(authors.split(';'))\n",
        "  authors_counts.append(count)\n",
        "  if count<=8:\n",
        "    below_75_authors_counts.append(count)\n",
        "  else:\n",
        "    above_75_authors_counts.append(count)"
      ],
      "metadata": {
        "id": "AD1ZAam970h0"
      },
      "execution_count": null,
      "outputs": []
    },
    {
      "cell_type": "code",
      "source": [
        "covid_df['FAU_Count']=authors_counts"
      ],
      "metadata": {
        "id": "RpbPDeQEA5GK"
      },
      "execution_count": null,
      "outputs": []
    },
    {
      "cell_type": "code",
      "source": [
        "covid_df.describe()"
      ],
      "metadata": {
        "id": "WoOivYuw8PNa",
        "colab": {
          "base_uri": "https://localhost:8080/",
          "height": 300
        },
        "outputId": "58732f8e-991a-4e79-e1e2-8b5ffd1f1866"
      },
      "execution_count": null,
      "outputs": [
        {
          "output_type": "execute_result",
          "data": {
            "text/html": [
              "\n",
              "  <div id=\"df-081a8e53-f494-4054-9bf0-48b6ed063454\">\n",
              "    <div class=\"colab-df-container\">\n",
              "      <div>\n",
              "<style scoped>\n",
              "    .dataframe tbody tr th:only-of-type {\n",
              "        vertical-align: middle;\n",
              "    }\n",
              "\n",
              "    .dataframe tbody tr th {\n",
              "        vertical-align: top;\n",
              "    }\n",
              "\n",
              "    .dataframe thead th {\n",
              "        text-align: right;\n",
              "    }\n",
              "</style>\n",
              "<table border=\"1\" class=\"dataframe\">\n",
              "  <thead>\n",
              "    <tr style=\"text-align: right;\">\n",
              "      <th></th>\n",
              "      <th>FAU_Count</th>\n",
              "    </tr>\n",
              "  </thead>\n",
              "  <tbody>\n",
              "    <tr>\n",
              "      <th>count</th>\n",
              "      <td>204668.000000</td>\n",
              "    </tr>\n",
              "    <tr>\n",
              "      <th>mean</th>\n",
              "      <td>6.648450</td>\n",
              "    </tr>\n",
              "    <tr>\n",
              "      <th>std</th>\n",
              "      <td>7.583089</td>\n",
              "    </tr>\n",
              "    <tr>\n",
              "      <th>min</th>\n",
              "      <td>1.000000</td>\n",
              "    </tr>\n",
              "    <tr>\n",
              "      <th>25%</th>\n",
              "      <td>3.000000</td>\n",
              "    </tr>\n",
              "    <tr>\n",
              "      <th>50%</th>\n",
              "      <td>5.000000</td>\n",
              "    </tr>\n",
              "    <tr>\n",
              "      <th>75%</th>\n",
              "      <td>8.000000</td>\n",
              "    </tr>\n",
              "    <tr>\n",
              "      <th>max</th>\n",
              "      <td>1016.000000</td>\n",
              "    </tr>\n",
              "  </tbody>\n",
              "</table>\n",
              "</div>\n",
              "      <button class=\"colab-df-convert\" onclick=\"convertToInteractive('df-081a8e53-f494-4054-9bf0-48b6ed063454')\"\n",
              "              title=\"Convert this dataframe to an interactive table.\"\n",
              "              style=\"display:none;\">\n",
              "        \n",
              "  <svg xmlns=\"http://www.w3.org/2000/svg\" height=\"24px\"viewBox=\"0 0 24 24\"\n",
              "       width=\"24px\">\n",
              "    <path d=\"M0 0h24v24H0V0z\" fill=\"none\"/>\n",
              "    <path d=\"M18.56 5.44l.94 2.06.94-2.06 2.06-.94-2.06-.94-.94-2.06-.94 2.06-2.06.94zm-11 1L8.5 8.5l.94-2.06 2.06-.94-2.06-.94L8.5 2.5l-.94 2.06-2.06.94zm10 10l.94 2.06.94-2.06 2.06-.94-2.06-.94-.94-2.06-.94 2.06-2.06.94z\"/><path d=\"M17.41 7.96l-1.37-1.37c-.4-.4-.92-.59-1.43-.59-.52 0-1.04.2-1.43.59L10.3 9.45l-7.72 7.72c-.78.78-.78 2.05 0 2.83L4 21.41c.39.39.9.59 1.41.59.51 0 1.02-.2 1.41-.59l7.78-7.78 2.81-2.81c.8-.78.8-2.07 0-2.86zM5.41 20L4 18.59l7.72-7.72 1.47 1.35L5.41 20z\"/>\n",
              "  </svg>\n",
              "      </button>\n",
              "      \n",
              "  <style>\n",
              "    .colab-df-container {\n",
              "      display:flex;\n",
              "      flex-wrap:wrap;\n",
              "      gap: 12px;\n",
              "    }\n",
              "\n",
              "    .colab-df-convert {\n",
              "      background-color: #E8F0FE;\n",
              "      border: none;\n",
              "      border-radius: 50%;\n",
              "      cursor: pointer;\n",
              "      display: none;\n",
              "      fill: #1967D2;\n",
              "      height: 32px;\n",
              "      padding: 0 0 0 0;\n",
              "      width: 32px;\n",
              "    }\n",
              "\n",
              "    .colab-df-convert:hover {\n",
              "      background-color: #E2EBFA;\n",
              "      box-shadow: 0px 1px 2px rgba(60, 64, 67, 0.3), 0px 1px 3px 1px rgba(60, 64, 67, 0.15);\n",
              "      fill: #174EA6;\n",
              "    }\n",
              "\n",
              "    [theme=dark] .colab-df-convert {\n",
              "      background-color: #3B4455;\n",
              "      fill: #D2E3FC;\n",
              "    }\n",
              "\n",
              "    [theme=dark] .colab-df-convert:hover {\n",
              "      background-color: #434B5C;\n",
              "      box-shadow: 0px 1px 3px 1px rgba(0, 0, 0, 0.15);\n",
              "      filter: drop-shadow(0px 1px 2px rgba(0, 0, 0, 0.3));\n",
              "      fill: #FFFFFF;\n",
              "    }\n",
              "  </style>\n",
              "\n",
              "      <script>\n",
              "        const buttonEl =\n",
              "          document.querySelector('#df-081a8e53-f494-4054-9bf0-48b6ed063454 button.colab-df-convert');\n",
              "        buttonEl.style.display =\n",
              "          google.colab.kernel.accessAllowed ? 'block' : 'none';\n",
              "\n",
              "        async function convertToInteractive(key) {\n",
              "          const element = document.querySelector('#df-081a8e53-f494-4054-9bf0-48b6ed063454');\n",
              "          const dataTable =\n",
              "            await google.colab.kernel.invokeFunction('convertToInteractive',\n",
              "                                                     [key], {});\n",
              "          if (!dataTable) return;\n",
              "\n",
              "          const docLinkHtml = 'Like what you see? Visit the ' +\n",
              "            '<a target=\"_blank\" href=https://colab.research.google.com/notebooks/data_table.ipynb>data table notebook</a>'\n",
              "            + ' to learn more about interactive tables.';\n",
              "          element.innerHTML = '';\n",
              "          dataTable['output_type'] = 'display_data';\n",
              "          await google.colab.output.renderOutput(dataTable, element);\n",
              "          const docLink = document.createElement('div');\n",
              "          docLink.innerHTML = docLinkHtml;\n",
              "          element.appendChild(docLink);\n",
              "        }\n",
              "      </script>\n",
              "    </div>\n",
              "  </div>\n",
              "  "
            ],
            "text/plain": [
              "           FAU_Count\n",
              "count  204668.000000\n",
              "mean        6.648450\n",
              "std         7.583089\n",
              "min         1.000000\n",
              "25%         3.000000\n",
              "50%         5.000000\n",
              "75%         8.000000\n",
              "max      1016.000000"
            ]
          },
          "metadata": {},
          "execution_count": 9
        }
      ]
    },
    {
      "cell_type": "code",
      "source": [
        "sns.displot(x=authors_counts, discrete=True)"
      ],
      "metadata": {
        "id": "UrnCT8ea8PLR",
        "colab": {
          "base_uri": "https://localhost:8080/",
          "height": 386
        },
        "outputId": "d5243a35-8d36-407d-e523-a7dee2947693"
      },
      "execution_count": null,
      "outputs": [
        {
          "output_type": "execute_result",
          "data": {
            "text/plain": [
              "<seaborn.axisgrid.FacetGrid at 0x7fb5af1ba2d0>"
            ]
          },
          "metadata": {},
          "execution_count": 10
        },
        {
          "output_type": "display_data",
          "data": {
            "image/png": "[encoded data removed]",
            "text/plain": [
              "<Figure size 360x360 with 1 Axes>"
            ]
          },
          "metadata": {
            "needs_background": "light"
          }
        }
      ]
    },
    {
      "cell_type": "code",
      "source": [
        "sns.displot(x=below_75_authors_counts, discrete=True)"
      ],
      "metadata": {
        "id": "lDa7WXHw_ePT",
        "colab": {
          "base_uri": "https://localhost:8080/",
          "height": 386
        },
        "outputId": "fea6a9f0-8c35-4924-edfe-ba075721ea64"
      },
      "execution_count": null,
      "outputs": [
        {
          "output_type": "execute_result",
          "data": {
            "text/plain": [
              "<seaborn.axisgrid.FacetGrid at 0x7fb59ace8390>"
            ]
          },
          "metadata": {},
          "execution_count": 11
        },
        {
          "output_type": "display_data",
          "data": {
            "image/png": "[encoded data removed]",
            "text/plain": [
              "<Figure size 360x360 with 1 Axes>"
            ]
          },
          "metadata": {
            "needs_background": "light"
          }
        }
      ]
    },
    {
      "cell_type": "code",
      "source": [
        "sns.displot(x=above_75_authors_counts, discrete=True)"
      ],
      "metadata": {
        "id": "DqrugM4v_0gM",
        "colab": {
          "base_uri": "https://localhost:8080/",
          "height": 386
        },
        "outputId": "eea5bbcb-db7f-4bd5-9e0a-34c7742cc86f"
      },
      "execution_count": null,
      "outputs": [
        {
          "output_type": "execute_result",
          "data": {
            "text/plain": [
              "<seaborn.axisgrid.FacetGrid at 0x7fb599daa290>"
            ]
          },
          "metadata": {},
          "execution_count": 12
        },
        {
          "output_type": "display_data",
          "data": {
            "image/png": "[encoded data removed]",
            "text/plain": [
              "<Figure size 360x360 with 1 Axes>"
            ]
          },
          "metadata": {
            "needs_background": "light"
          }
        }
      ]
    },
    {
      "cell_type": "markdown",
      "source": [
        "## Journal Title (JT) & Abbreviation (TA)"
      ],
      "metadata": {
        "id": "M5L1p1BTbn_d"
      }
    },
    {
      "cell_type": "code",
      "source": [
        "covid_df.TA.value_counts()"
      ],
      "metadata": {
        "colab": {
          "base_uri": "https://localhost:8080/"
        },
        "id": "bzhsngPabpTe",
        "outputId": "17ad91a0-444e-482e-fc64-04b01d269c71"
      },
      "execution_count": null,
      "outputs": [
        {
          "output_type": "execute_result",
          "data": {
            "text/plain": [
              "Int J Environ Res Public Health    3074\n",
              "PLoS One                           2684\n",
              "BMJ                                2325\n",
              "Cureus                             1522\n",
              "Sci Rep                            1487\n",
              "                                   ... \n",
              "Rev Comun Salud                       1\n",
              "Int J Psychophysiol                   1\n",
              "Cancer Genomics Proteomics            1\n",
              "Blood Press Monit                     1\n",
              "Annu Rev Biomed Data Sci              1\n",
              "Name: TA, Length: 7717, dtype: int64"
            ]
          },
          "metadata": {},
          "execution_count": 13
        }
      ]
    },
    {
      "cell_type": "code",
      "source": [
        "jounl_count = Counter(covid_df.TA, )\n",
        "jounl_count_list = list(jounl_count.most_common())\n",
        "\n",
        "# Plot\n",
        "names = [value for value, count in jounl_count_list[0:15]]\n",
        "counts = [count for value, count in jounl_count_list[0:15]]"
      ],
      "metadata": {
        "id": "KuOvhHp1mcxU"
      },
      "execution_count": null,
      "outputs": []
    },
    {
      "cell_type": "code",
      "source": [
        "sns.barplot(x=counts, y=names)"
      ],
      "metadata": {
        "colab": {
          "base_uri": "https://localhost:8080/",
          "height": 279
        },
        "id": "iXTqfjKxmH2Z",
        "outputId": "fa5c5668-d3f7-4f36-8470-aeba1077c2c9"
      },
      "execution_count": null,
      "outputs": [
        {
          "output_type": "execute_result",
          "data": {
            "text/plain": [
              "<matplotlib.axes._subplots.AxesSubplot at 0x7fb5991d8310>"
            ]
          },
          "metadata": {},
          "execution_count": 15
        },
        {
          "output_type": "display_data",
          "data": {
            "image/png": "[encoded data removed]",
            "text/plain": [
              "<Figure size 432x288 with 1 Axes>"
            ]
          },
          "metadata": {
            "needs_background": "light"
          }
        }
      ]
    },
    {
      "cell_type": "code",
      "source": [
        "len(covid_df.JT.value_counts())"
      ],
      "metadata": {
        "colab": {
          "base_uri": "https://localhost:8080/"
        },
        "id": "ooaWfyoncJGo",
        "outputId": "de234050-0d65-4e06-b5cf-aadc12d556ef"
      },
      "execution_count": null,
      "outputs": [
        {
          "output_type": "execute_result",
          "data": {
            "text/plain": [
              "7703"
            ]
          },
          "metadata": {},
          "execution_count": 16
        }
      ]
    },
    {
      "cell_type": "markdown",
      "source": [
        "## Language (LA)"
      ],
      "metadata": {
        "id": "VJQYzvdKboG9"
      }
    },
    {
      "cell_type": "code",
      "source": [
        "covid_df.LA.value_counts()"
      ],
      "metadata": {
        "colab": {
          "base_uri": "https://localhost:8080/"
        },
        "id": "OMRYj5RAbpx2",
        "outputId": "f071380f-ed7c-4b93-b084-1e11b3bf541e"
      },
      "execution_count": null,
      "outputs": [
        {
          "output_type": "execute_result",
          "data": {
            "text/plain": [
              "eng            196778\n",
              "spa              1516\n",
              "ger              1082\n",
              "eng;spa          1067\n",
              "fre              1065\n",
              "chi               858\n",
              "eng;por           708\n",
              "rus               290\n",
              "ita               269\n",
              "por               131\n",
              "jpn               118\n",
              "dut               114\n",
              "hun                83\n",
              "eng;nor            81\n",
              "nor                69\n",
              "eng;chi            63\n",
              "dan                59\n",
              "eng;por;spa        49\n",
              "swe                42\n",
              "heb                39\n",
              "pol                31\n",
              "tur                30\n",
              "eng;fre            26\n",
              "ger;eng            21\n",
              "ice                17\n",
              "kor                14\n",
              "eng;pol            11\n",
              "eng;rus             9\n",
              "tur;eng             7\n",
              "epo                 6\n",
              "cze                 5\n",
              "gre;eng             3\n",
              "NONE                2\n",
              "eng;gre             2\n",
              "eng;ukr             1\n",
              "eng;hrv             1\n",
              "eng;kor             1\n",
              "Name: LA, dtype: int64"
            ]
          },
          "metadata": {},
          "execution_count": 17
        }
      ]
    },
    {
      "cell_type": "markdown",
      "source": [
        "## Publication Type"
      ],
      "metadata": {
        "id": "eOTK7CWbrcxb"
      }
    },
    {
      "cell_type": "code",
      "source": [
        "temp_ = list()\n",
        "for date in covid_df.PT:\n",
        "  for text in date.split(';'):\n",
        "    temp_.append(text.strip())\n",
        "\n",
        "print(len(temp_))\n",
        "\n",
        "print(len(set(temp_)))\n",
        "\n",
        "pub_type_count = Counter(temp_)\n",
        "pub_type_count_list = list(pub_type_count.most_common())\n",
        "\n",
        "# Plot\n",
        "names = [value for value, count in pub_type_count_list[0:20]]\n",
        "counts = [count for value, count in pub_type_count_list[0:20]]    "
      ],
      "metadata": {
        "colab": {
          "base_uri": "https://localhost:8080/"
        },
        "id": "KUaFrKjurf_i",
        "outputId": "6f7e9166-bf72-4c0c-9a90-eab64839a2b2"
      },
      "execution_count": null,
      "outputs": [
        {
          "output_type": "stream",
          "name": "stdout",
          "text": [
            "297431\n",
            "68\n"
          ]
        }
      ]
    },
    {
      "cell_type": "code",
      "source": [
        "sns.barplot(x=counts, y=names)\n",
        "plt.title(\"Publication Type\")\n",
        "plt.xlabel(\"Count\")"
      ],
      "metadata": {
        "colab": {
          "base_uri": "https://localhost:8080/",
          "height": 314
        },
        "id": "6Aj6fkhhrgeL",
        "outputId": "715bad4f-2fef-45ed-8ddf-ad8d7f492b5a"
      },
      "execution_count": null,
      "outputs": [
        {
          "output_type": "execute_result",
          "data": {
            "text/plain": [
              "Text(0.5, 0, 'Count')"
            ]
          },
          "metadata": {},
          "execution_count": 19
        },
        {
          "output_type": "display_data",
          "data": {
            "image/png": "[encoded data removed]",
            "text/plain": [
              "<Figure size 432x288 with 1 Axes>"
            ]
          },
          "metadata": {
            "needs_background": "light"
          }
        }
      ]
    },
    {
      "cell_type": "markdown",
      "source": [
        "## Publication Date (DP)"
      ],
      "metadata": {
        "id": "QDVQqUkEbnvu"
      }
    },
    {
      "cell_type": "code",
      "source": [
        "month_abbr = ['Jan', 'Feb', 'Mar', 'Apr', 'May', 'Jun', \n",
        "              'Jul', 'Aug', 'Sep', 'Oct', 'Nov', 'Dec']\n",
        "\n",
        "cov_pub_2019 = list()\n",
        "cov_pub_2020= list()\n",
        "cov_pub_2021= list()\n",
        "\n",
        "\n",
        "for date in (covid_df.DP):\n",
        "\n",
        "  if len(date.split())>1:\n",
        "    year = date.split()[0]\n",
        "    month = date.split()[1].split('-')[0]\n",
        "\n",
        "    if month in month_abbr and int(year)==2019:\n",
        "      cov_pub_2019.append(f\"{month}-{year}\")      \n",
        "\n",
        "    if month in month_abbr and int(year)==2020:\n",
        "      cov_pub_2020.append(f\"{month}-{year}\")  \n",
        "\n",
        "    if month in month_abbr and int(year)==2021:\n",
        "      cov_pub_2021.append(f\"{month}-{year}\")              "
      ],
      "metadata": {
        "id": "u1Kj38yptYpz"
      },
      "execution_count": null,
      "outputs": []
    },
    {
      "cell_type": "code",
      "source": [
        "year_2019 = ['Jan-2019', 'Feb-2019', 'Mar-2019', \n",
        "             'Apr-2019', 'May-2019', 'Jun-2019', \n",
        "             'Jul-2019', 'Aug-2019', 'Sep-2019', \n",
        "             'Oct-2019', 'Nov-2019', 'Dec-2019']\n",
        "\n",
        "year_2020 = ['Jan-2020', 'Feb-2020', 'Mar-2020', \n",
        "             'Apr-2020', 'May-2020', 'Jun-2020', \n",
        "             'Jul-2020', 'Aug-2020', 'Sep-2020', \n",
        "             'Oct-2020', 'Nov-2020', 'Dec-2020']\n",
        "\n",
        "year_2021 = ['Jan-2021', 'Feb-2021', 'Mar-2021', \n",
        "             'Apr-2021', 'May-2021', 'Jun-2021', \n",
        "             'Jul-2021', 'Aug-2021', 'Sep-2021', \n",
        "             'Oct-2021', 'Nov-2021', 'Dec-2021']              "
      ],
      "metadata": {
        "id": "vAD6J89I0be6"
      },
      "execution_count": null,
      "outputs": []
    },
    {
      "cell_type": "code",
      "source": [
        "sns.countplot(x=cov_pub_2019, order=year_2019, color=\"c\")\n",
        "plt.xticks(rotation=45)\n",
        "plt.title(\"Publication Count Per-Month of 2019\")"
      ],
      "metadata": {
        "colab": {
          "base_uri": "https://localhost:8080/",
          "height": 328
        },
        "id": "VyhQuD__1eje",
        "outputId": "1a175c65-eefe-47d4-c36f-cb7fee5b6566"
      },
      "execution_count": null,
      "outputs": [
        {
          "output_type": "execute_result",
          "data": {
            "text/plain": [
              "Text(0.5, 1.0, 'Publication Count Per-Month of 2019')"
            ]
          },
          "metadata": {},
          "execution_count": 22
        },
        {
          "output_type": "display_data",
          "data": {
            "image/png": "[encoded data removed]",
            "text/plain": [
              "<Figure size 432x288 with 1 Axes>"
            ]
          },
          "metadata": {
            "needs_background": "light"
          }
        }
      ]
    },
    {
      "cell_type": "code",
      "source": [
        "sns.countplot(x=cov_pub_2020, order=year_2020, color=\"c\")\n",
        "plt.xticks(rotation=45)\n",
        "plt.title(\"Publication Count Per-Month of 2020\")"
      ],
      "metadata": {
        "colab": {
          "base_uri": "https://localhost:8080/",
          "height": 328
        },
        "id": "ZGKkqwWp2yyw",
        "outputId": "6cbdd0f5-e84b-412b-9941-ff7713f0cc42"
      },
      "execution_count": null,
      "outputs": [
        {
          "output_type": "execute_result",
          "data": {
            "text/plain": [
              "Text(0.5, 1.0, 'Publication Count Per-Month of 2020')"
            ]
          },
          "metadata": {},
          "execution_count": 23
        },
        {
          "output_type": "display_data",
          "data": {
            "image/png": "[encoded data removed]",
            "text/plain": [
              "<Figure size 432x288 with 1 Axes>"
            ]
          },
          "metadata": {
            "needs_background": "light"
          }
        }
      ]
    },
    {
      "cell_type": "code",
      "source": [
        "sns.countplot(x=cov_pub_2021, order=year_2021, color=\"c\")\n",
        "plt.xticks(rotation=45)\n",
        "plt.title(\"Publication Count Per-Month of 2021\")"
      ],
      "metadata": {
        "colab": {
          "base_uri": "https://localhost:8080/",
          "height": 328
        },
        "id": "AVDaxRDo2zDA",
        "outputId": "a812a934-969d-408a-da23-505a6274d080"
      },
      "execution_count": null,
      "outputs": [
        {
          "output_type": "execute_result",
          "data": {
            "text/plain": [
              "Text(0.5, 1.0, 'Publication Count Per-Month of 2021')"
            ]
          },
          "metadata": {},
          "execution_count": 24
        },
        {
          "output_type": "display_data",
          "data": {
            "image/png": "[encoded data removed]",
            "text/plain": [
              "<Figure size 432x288 with 1 Axes>"
            ]
          },
          "metadata": {
            "needs_background": "light"
          }
        }
      ]
    },
    {
      "cell_type": "markdown",
      "source": [
        "## Publication Location (PL)"
      ],
      "metadata": {
        "id": "MVvMu294cQjl"
      }
    },
    {
      "cell_type": "code",
      "source": [
        "covid_df.PL.value_counts()"
      ],
      "metadata": {
        "colab": {
          "base_uri": "https://localhost:8080/"
        },
        "id": "bbVy4ZRgcdu4",
        "outputId": "89ecee57-1773-42d1-d7b8-c303d17a935c"
      },
      "execution_count": null,
      "outputs": [
        {
          "output_type": "execute_result",
          "data": {
            "text/plain": [
              "United States           69463\n",
              "England                 52455\n",
              "Switzerland             20000\n",
              "Netherlands             14903\n",
              "Germany                  7033\n",
              "                        ...  \n",
              "Estonia                     1\n",
              "Cham (CH)                   1\n",
              "Southampton (UK)            1\n",
              "Copenhagen (Denmark)        1\n",
              "South Dartmouth (MA)        1\n",
              "Name: PL, Length: 98, dtype: int64"
            ]
          },
          "metadata": {},
          "execution_count": 25
        }
      ]
    },
    {
      "cell_type": "markdown",
      "source": [
        "## Publication Status (PST)"
      ],
      "metadata": {
        "id": "5RpPcxhzcqfb"
      }
    },
    {
      "cell_type": "code",
      "source": [
        "covid_df.PST.value_counts()"
      ],
      "metadata": {
        "colab": {
          "base_uri": "https://localhost:8080/"
        },
        "id": "YaG_Gkgvcqx2",
        "outputId": "1b25613e-29cb-43ed-8be2-721014df7568"
      },
      "execution_count": null,
      "outputs": [
        {
          "output_type": "execute_result",
          "data": {
            "text/plain": [
              "ppublish        123219\n",
              "epublish         58761\n",
              "aheadofprint     22530\n",
              "NONE               158\n",
              "Name: PST, dtype: int64"
            ]
          },
          "metadata": {},
          "execution_count": 26
        }
      ]
    },
    {
      "cell_type": "markdown",
      "source": [
        "## Enzyme (RN)"
      ],
      "metadata": {
        "id": "aPYV9GX2g3cx"
      }
    },
    {
      "cell_type": "code",
      "source": [
        "enzymes_molecule = list()\n",
        "\n",
        "for ec_number_molecules in (covid_df.RN):\n",
        "  if isinstance(ec_number_molecules, str):\n",
        "    for molecule in ec_number_molecules.split(';'):\n",
        "      if molecule.startswith('EC'):\n",
        "        enzymes_molecule.append(molecule)  "
      ],
      "metadata": {
        "id": "XMpOXq11lwaW"
      },
      "execution_count": null,
      "outputs": []
    },
    {
      "cell_type": "code",
      "source": [
        "enzymes_molecule_count = Counter(enzymes_molecule, )"
      ],
      "metadata": {
        "id": "PmXTpHn4mWLO"
      },
      "execution_count": null,
      "outputs": []
    },
    {
      "cell_type": "code",
      "source": [
        "len(enzymes_molecule)"
      ],
      "metadata": {
        "colab": {
          "base_uri": "https://localhost:8080/"
        },
        "id": "6pfOGzkXmUSw",
        "outputId": "ee0e7761-3977-4ba8-ac03-d9fbb75d7040"
      },
      "execution_count": null,
      "outputs": [
        {
          "output_type": "execute_result",
          "data": {
            "text/plain": [
              "13529"
            ]
          },
          "metadata": {},
          "execution_count": 29
        }
      ]
    },
    {
      "cell_type": "code",
      "source": [
        "len(enzymes_molecule_count.most_common())"
      ],
      "metadata": {
        "colab": {
          "base_uri": "https://localhost:8080/"
        },
        "id": "x3evtwECkT_i",
        "outputId": "ccbebe79-2a15-45dd-bb25-892cef26693f"
      },
      "execution_count": null,
      "outputs": [
        {
          "output_type": "execute_result",
          "data": {
            "text/plain": [
              "891"
            ]
          },
          "metadata": {},
          "execution_count": 30
        }
      ]
    },
    {
      "cell_type": "markdown",
      "source": [
        "- There are total 13172 enzymes mentioned.\n",
        "- Among that, 869 are most common occuring."
      ],
      "metadata": {
        "id": "p1WYGw4WDurU"
      }
    },
    {
      "cell_type": "markdown",
      "source": [
        "### Occurance count "
      ],
      "metadata": {
        "id": "r8okNHlwEIEA"
      }
    },
    {
      "cell_type": "code",
      "source": [
        "enzymes_molecule_count.most_common()[:10]"
      ],
      "metadata": {
        "colab": {
          "base_uri": "https://localhost:8080/"
        },
        "id": "07bseTpjmhQP",
        "outputId": "09277e78-9a1b-4526-c380-91c6d280a88b"
      },
      "execution_count": null,
      "outputs": [
        {
          "output_type": "execute_result",
          "data": {
            "text/plain": [
              "[('EC 3.4.17.23 (Angiotensin-Converting Enzyme 2)', 2907),\n",
              " ('EC 3.4.17.23 (ACE2 protein, human)', 2338),\n",
              " ('EC 3.4.15.1 (Peptidyl-Dipeptidase A)', 1346),\n",
              " ('EC 3.4.21.- (Serine Endopeptidases)', 539),\n",
              " ('EC 3.4.21.- (TMPRSS2 protein, human)', 483),\n",
              " ('EC 3.4.22.28 (Coronavirus 3C Proteases)', 474),\n",
              " ('EC 1.1.1.27 (L-Lactate Dehydrogenase)', 208),\n",
              " ('EC 2.7.7.48 (RNA-Dependent RNA Polymerase)', 201),\n",
              " ('EC 3.4.22.- (3C-like proteinase, SARS-CoV-2)', 183),\n",
              " ('EC 3.4.17.23 (Ace2 protein, mouse)', 149)]"
            ]
          },
          "metadata": {},
          "execution_count": 31
        }
      ]
    },
    {
      "cell_type": "code",
      "source": [
        "enzyme_classes = {\n",
        "    '1':'Oxidoreductases',\n",
        "    '2':'Transferases',\n",
        "    '3':'Hydrolases',\n",
        "    '4':'Lyases',\n",
        "    '5':'Isomerases',\n",
        "    '6':'Ligases',\n",
        "    '7':'Translocases',\n",
        "}"
      ],
      "metadata": {
        "id": "Vqguk6o1fLvB"
      },
      "execution_count": null,
      "outputs": []
    },
    {
      "cell_type": "code",
      "source": [
        "enzyme_classes_count = list()\n",
        "for enzyme_name in list(enzymes_molecule_count.keys()):\n",
        "  class_enzyme = enzyme_name.split()[1]\n",
        "  for enzyme_class_no in enzyme_classes.keys():\n",
        "    if class_enzyme.startswith(enzyme_class_no):\n",
        "      enzyme_classes_count.append(enzyme_classes.get(enzyme_class_no))"
      ],
      "metadata": {
        "id": "RNEaGknnfBlS"
      },
      "execution_count": null,
      "outputs": []
    },
    {
      "cell_type": "code",
      "source": [
        "enzyme_classes_count = Counter(enzyme_classes_count, )\n",
        "enzyme_classes_count = dict(enzyme_classes_count.most_common())\n"
      ],
      "metadata": {
        "id": "RmzSzdlof74J"
      },
      "execution_count": null,
      "outputs": []
    },
    {
      "cell_type": "code",
      "source": [
        "enzyme_classes_count"
      ],
      "metadata": {
        "colab": {
          "base_uri": "https://localhost:8080/"
        },
        "id": "Q5icGOg8mbU9",
        "outputId": "7c09dba9-9b8a-4b4d-fba1-ded815f7dcbc"
      },
      "execution_count": null,
      "outputs": [
        {
          "output_type": "execute_result",
          "data": {
            "text/plain": [
              "{'Hydrolases': 383,\n",
              " 'Isomerases': 12,\n",
              " 'Ligases': 16,\n",
              " 'Lyases': 16,\n",
              " 'Oxidoreductases': 135,\n",
              " 'Transferases': 324,\n",
              " 'Translocases': 5}"
            ]
          },
          "metadata": {},
          "execution_count": 35
        }
      ]
    },
    {
      "cell_type": "code",
      "source": [
        "sns.barplot(x=list(enzyme_classes_count.values()), y=list(enzyme_classes_count.keys()))\n",
        "plt.title(\"Enzymes Mentioned (Based On Class)\")\n",
        "plt.ylabel(\"Count\")\n",
        "plt.show()"
      ],
      "metadata": {
        "colab": {
          "base_uri": "https://localhost:8080/",
          "height": 279
        },
        "id": "OSRUMg1NsJ6G",
        "outputId": "40b259ff-6a29-444e-9e55-de8150f0e719"
      },
      "execution_count": null,
      "outputs": [
        {
          "output_type": "display_data",
          "data": {
            "image/png": "[encoded data removed]",
            "text/plain": [
              "<Figure size 432x288 with 1 Axes>"
            ]
          },
          "metadata": {
            "needs_background": "light"
          }
        }
      ]
    },
    {
      "cell_type": "markdown",
      "source": [
        "## Secondary Source"
      ],
      "metadata": {
        "id": "sq6gM1vqg0hD"
      }
    },
    {
      "cell_type": "code",
      "source": [
        "data_source = pd.read_csv(\"/content/drive/MyDrive/04-Work/EDA-Comparison-21st-Epidemics-PubMed/MEDLINE-databank-sources-p-1 - Sheet1.csv\")"
      ],
      "metadata": {
        "id": "eEe0DIW2TC-s"
      },
      "execution_count": null,
      "outputs": []
    },
    {
      "cell_type": "code",
      "source": [
        "covid_source_item = ['Non-CT' for x in range(len(covid_df))]"
      ],
      "metadata": {
        "id": "qj2VnWJ9qYpd"
      },
      "execution_count": null,
      "outputs": []
    },
    {
      "cell_type": "code",
      "source": [
        "just_names = list()\n",
        "\n",
        "for idx, source in enumerate(covid_df.SI):\n",
        "  if source.strip() != 'NONE':\n",
        "    for item in list(data_source['Trial Registry Abbreviation']) :\n",
        "      if item in source.strip():\n",
        "        covid_source_item[idx]=item.split('.')[0]\n",
        "        just_names.append(item.split('.')[0])"
      ],
      "metadata": {
        "id": "Jx9BqaecUOS0"
      },
      "execution_count": null,
      "outputs": []
    },
    {
      "cell_type": "code",
      "source": [
        "len(just_names)"
      ],
      "metadata": {
        "colab": {
          "base_uri": "https://localhost:8080/"
        },
        "id": "KwIg5r8Tpkgd",
        "outputId": "c1a896cb-0c33-44f5-f7d2-7d48b885f635"
      },
      "execution_count": null,
      "outputs": [
        {
          "output_type": "execute_result",
          "data": {
            "text/plain": [
              "1454"
            ]
          },
          "metadata": {},
          "execution_count": 40
        }
      ]
    },
    {
      "cell_type": "code",
      "source": [
        "f, ax = plt.subplots(figsize=(7, 3))\n",
        "sns.countplot(y=just_names,  color=\"c\")\n",
        "plt.title(\"Clinical Trails Registry Count\")"
      ],
      "metadata": {
        "colab": {
          "base_uri": "https://localhost:8080/",
          "height": 258
        },
        "id": "kN_5xoAorQot",
        "outputId": "eb8ea859-7531-4f17-f743-e37b6bf622bd"
      },
      "execution_count": null,
      "outputs": [
        {
          "output_type": "execute_result",
          "data": {
            "text/plain": [
              "Text(0.5, 1.0, 'Clinical Trails Registry Count')"
            ]
          },
          "metadata": {},
          "execution_count": 41
        },
        {
          "output_type": "display_data",
          "data": {
            "image/png": "[encoded data removed]",
            "text/plain": [
              "<Figure size 504x216 with 1 Axes>"
            ]
          },
          "metadata": {
            "needs_background": "light"
          }
        }
      ]
    },
    {
      "cell_type": "code",
      "source": [
        "covid_source_item_count = Counter(covid_source_item, )\n",
        "list(covid_source_item_count.most_common())"
      ],
      "metadata": {
        "colab": {
          "base_uri": "https://localhost:8080/"
        },
        "id": "V3itN1iMUjqk",
        "outputId": "4e3aea39-697f-4f3d-eda1-b6488e3e330d"
      },
      "execution_count": null,
      "outputs": [
        {
          "output_type": "execute_result",
          "data": {
            "text/plain": [
              "[('Non-CT', 203234),\n",
              " ('ClinicalTrials', 1355),\n",
              " ('ISRCTN', 27),\n",
              " ('ChiCTR', 13),\n",
              " ('EudraCT', 12),\n",
              " ('DRKS', 11),\n",
              " ('ANZCTR', 6),\n",
              " ('CTRI', 4),\n",
              " ('IRCT', 3),\n",
              " ('TCTR', 1),\n",
              " ('PACTR', 1),\n",
              " ('NTR', 1)]"
            ]
          },
          "metadata": {},
          "execution_count": 42
        }
      ]
    },
    {
      "cell_type": "code",
      "source": [
        "names = [value for value, count in list(covid_source_item_count.most_common())[2:]]\n",
        "counts = [count for value, count in list(covid_source_item_count.most_common())[2:]]\n",
        "counts"
      ],
      "metadata": {
        "colab": {
          "base_uri": "https://localhost:8080/"
        },
        "id": "PXLihHPQs6t2",
        "outputId": "3dabf130-79a5-4fea-eec1-df794a293fd1"
      },
      "execution_count": null,
      "outputs": [
        {
          "output_type": "execute_result",
          "data": {
            "text/plain": [
              "[27, 13, 12, 11, 6, 4, 3, 1, 1, 1]"
            ]
          },
          "metadata": {},
          "execution_count": 43
        }
      ]
    },
    {
      "cell_type": "code",
      "source": [
        "sns.barplot(x=counts, y=names)\n",
        "plt.title(\"Clinical Trails Registry (excluding large value)\")\n",
        "plt.show()"
      ],
      "metadata": {
        "colab": {
          "base_uri": "https://localhost:8080/",
          "height": 279
        },
        "id": "aFug9Yx2eFXY",
        "outputId": "76b809b2-5037-4f83-c8c6-5815f29a8c94"
      },
      "execution_count": null,
      "outputs": [
        {
          "output_type": "display_data",
          "data": {
            "image/png": "[encoded data removed]",
            "text/plain": [
              "<Figure size 432x288 with 1 Axes>"
            ]
          },
          "metadata": {
            "needs_background": "light"
          }
        }
      ]
    },
    {
      "cell_type": "code",
      "source": [
        "path = \"/content/drive/MyDrive/04-Work/EDA-Comparison-21st-Epidemics-PubMed/MEDLINE-databank-sources-p-1 - databases.csv\"\n",
        "\n",
        "data_source_db = pd.read_csv(path)"
      ],
      "metadata": {
        "id": "ghD43b88XOcW"
      },
      "execution_count": null,
      "outputs": []
    },
    {
      "cell_type": "code",
      "source": [
        "covid_source_db = list()\n",
        "for item in list(data_source_db['MEDLINE Databank Name Abbreviation']):\n",
        "  for source in covid_df.SI:\n",
        "    if item in source.strip():\n",
        "      covid_source_db.append(item)"
      ],
      "metadata": {
        "id": "lwdkLm3AXZXF"
      },
      "execution_count": null,
      "outputs": []
    },
    {
      "cell_type": "code",
      "source": [
        "covid_source_db_item_count = Counter(covid_source_db, )\n",
        "covid_source_db_item_count.most_common()"
      ],
      "metadata": {
        "colab": {
          "base_uri": "https://localhost:8080/"
        },
        "id": "1fbdRqnbXgTO",
        "outputId": "0e001bbd-b5ab-4c57-eca1-12587e302ab5"
      },
      "execution_count": null,
      "outputs": [
        {
          "output_type": "execute_result",
          "data": {
            "text/plain": [
              "[('figshare', 268),\n",
              " ('Dryad', 43),\n",
              " ('GENBANK', 15),\n",
              " ('GEO', 15),\n",
              " ('PDB', 10),\n",
              " ('RefSeq', 7),\n",
              " ('SRA', 3),\n",
              " ('BioProject', 1),\n",
              " ('dbGaP', 1)]"
            ]
          },
          "metadata": {},
          "execution_count": 47
        }
      ]
    },
    {
      "cell_type": "code",
      "source": [
        "names = [value for value, count in list(covid_source_db_item_count.most_common())]\n",
        "counts = [count for value, count in list(covid_source_db_item_count.most_common())]\n",
        "counts"
      ],
      "metadata": {
        "colab": {
          "base_uri": "https://localhost:8080/"
        },
        "id": "zUgwTNCrfn8o",
        "outputId": "9b70e0d5-2a77-42c6-9720-712d4477f844"
      },
      "execution_count": null,
      "outputs": [
        {
          "output_type": "execute_result",
          "data": {
            "text/plain": [
              "[268, 43, 15, 15, 10, 7, 3, 1, 1]"
            ]
          },
          "metadata": {},
          "execution_count": 48
        }
      ]
    },
    {
      "cell_type": "code",
      "source": [
        "sns.barplot(x=counts, y=names)\n",
        "plt.title(\"External DB Mentioned\")\n",
        "plt.show()"
      ],
      "metadata": {
        "colab": {
          "base_uri": "https://localhost:8080/",
          "height": 279
        },
        "id": "piOuVAx9fvrH",
        "outputId": "5ac55fe7-db81-4cf7-e538-8beef9e774b1"
      },
      "execution_count": null,
      "outputs": [
        {
          "output_type": "display_data",
          "data": {
            "image/png": "[encoded data removed]",
            "text/plain": [
              "<Figure size 432x288 with 1 Axes>"
            ]
          },
          "metadata": {
            "needs_background": "light"
          }
        }
      ]
    },
    {
      "cell_type": "markdown",
      "source": [
        "## Citations"
      ],
      "metadata": {
        "id": "TVlOwuORwDSd"
      }
    },
    {
      "cell_type": "code",
      "source": [
        "def get_citation(pmid):\n",
        "\n",
        "  url = f\"https://eutils.ncbi.nlm.nih.gov/entrez/eutils/elink.fcgi?dbfrom=pubmed&linkname=pubmed_pubmed_citedin&id={pmid}\"\n",
        "\n",
        "  url_result = urllib.request.urlopen(url)\n",
        "\n",
        "  esearch_url_result = url_result.read().decode('utf-8')\n",
        "\n",
        "  pmids = set(re.findall(\"<Id>(\\d+?)</Id>\", esearch_url_result))\n",
        "\n",
        "  return pmids"
      ],
      "metadata": {
        "id": "hjH0myG4wCzb"
      },
      "execution_count": null,
      "outputs": []
    },
    {
      "cell_type": "code",
      "source": [
        "covid_df['PMID']"
      ],
      "metadata": {
        "colab": {
          "base_uri": "https://localhost:8080/"
        },
        "id": "DJT3elq01fLE",
        "outputId": "ae239746-9411-43cc-ec2d-e5d1897934b6"
      },
      "execution_count": null,
      "outputs": [
        {
          "output_type": "execute_result",
          "data": {
            "text/plain": [
              "0         35052023\n",
              "1         35052021\n",
              "2         35052020\n",
              "3         35051990\n",
              "4         35051989\n",
              "            ...   \n",
              "204663    29634173\n",
              "204664    29261939\n",
              "204665    28262332\n",
              "204666    15631713\n",
              "204667    14648488\n",
              "Name: PMID, Length: 204668, dtype: object"
            ]
          },
          "metadata": {},
          "execution_count": 51
        }
      ]
    },
    {
      "cell_type": "code",
      "source": [
        "citations_count = dict()\n",
        "\n",
        "for pmid in tqdm(covid_df['PMID'][0:10000]):\n",
        "  citations_count[pmid] = get_citation(str(pmid))\n",
        "  time.sleep(0.30)"
      ],
      "metadata": {
        "colab": {
          "base_uri": "https://localhost:8080/",
          "height": 380
        },
        "id": "9ITvidXG2S7V",
        "outputId": "b8df6a95-d710-431a-9739-aaa659612194"
      },
      "execution_count": null,
      "outputs": [
        {
          "output_type": "stream",
          "name": "stderr",
          "text": [
            "  6%|▌         | 596/10000 [07:05<1:52:00,  1.40it/s]\n"
          ]
        },
        {
          "output_type": "error",
          "ename": "KeyboardInterrupt",
          "evalue": "ignored",
          "traceback": [
            "\u001b[0;31m---------------------------------------------------------------------------\u001b[0m",
            "\u001b[0;31mKeyboardInterrupt\u001b[0m                         Traceback (most recent call last)",
            "\u001b[0;32m<ipython-input-52-8e4119f8c494>\u001b[0m in \u001b[0;36m<module>\u001b[0;34m()\u001b[0m\n\u001b[1;32m      2\u001b[0m \u001b[0;34m\u001b[0m\u001b[0m\n\u001b[1;32m      3\u001b[0m \u001b[0;32mfor\u001b[0m \u001b[0mpmid\u001b[0m \u001b[0;32min\u001b[0m \u001b[0mtqdm\u001b[0m\u001b[0;34m(\u001b[0m\u001b[0mcovid_df\u001b[0m\u001b[0;34m[\u001b[0m\u001b[0;34m'PMID'\u001b[0m\u001b[0;34m]\u001b[0m\u001b[0;34m[\u001b[0m\u001b[0;36m0\u001b[0m\u001b[0;34m:\u001b[0m\u001b[0;36m10000\u001b[0m\u001b[0;34m]\u001b[0m\u001b[0;34m)\u001b[0m\u001b[0;34m:\u001b[0m\u001b[0;34m\u001b[0m\u001b[0;34m\u001b[0m\u001b[0m\n\u001b[0;32m----> 4\u001b[0;31m   \u001b[0mcitations_count\u001b[0m\u001b[0;34m[\u001b[0m\u001b[0mpmid\u001b[0m\u001b[0;34m]\u001b[0m \u001b[0;34m=\u001b[0m \u001b[0mget_citation\u001b[0m\u001b[0;34m(\u001b[0m\u001b[0mstr\u001b[0m\u001b[0;34m(\u001b[0m\u001b[0mpmid\u001b[0m\u001b[0;34m)\u001b[0m\u001b[0;34m)\u001b[0m\u001b[0;34m\u001b[0m\u001b[0;34m\u001b[0m\u001b[0m\n\u001b[0m\u001b[1;32m      5\u001b[0m   \u001b[0mtime\u001b[0m\u001b[0;34m.\u001b[0m\u001b[0msleep\u001b[0m\u001b[0;34m(\u001b[0m\u001b[0;36m0.30\u001b[0m\u001b[0;34m)\u001b[0m\u001b[0;34m\u001b[0m\u001b[0;34m\u001b[0m\u001b[0m\n",
            "\u001b[0;32m<ipython-input-50-0020a7e977db>\u001b[0m in \u001b[0;36mget_citation\u001b[0;34m(pmid)\u001b[0m\n\u001b[1;32m      3\u001b[0m   \u001b[0murl\u001b[0m \u001b[0;34m=\u001b[0m \u001b[0;34mf\"https://eutils.ncbi.nlm.nih.gov/entrez/eutils/elink.fcgi?dbfrom=pubmed&linkname=pubmed_pubmed_citedin&id={pmid}\"\u001b[0m\u001b[0;34m\u001b[0m\u001b[0;34m\u001b[0m\u001b[0m\n\u001b[1;32m      4\u001b[0m \u001b[0;34m\u001b[0m\u001b[0m\n\u001b[0;32m----> 5\u001b[0;31m   \u001b[0murl_result\u001b[0m \u001b[0;34m=\u001b[0m \u001b[0murllib\u001b[0m\u001b[0;34m.\u001b[0m\u001b[0mrequest\u001b[0m\u001b[0;34m.\u001b[0m\u001b[0murlopen\u001b[0m\u001b[0;34m(\u001b[0m\u001b[0murl\u001b[0m\u001b[0;34m)\u001b[0m\u001b[0;34m\u001b[0m\u001b[0;34m\u001b[0m\u001b[0m\n\u001b[0m\u001b[1;32m      6\u001b[0m \u001b[0;34m\u001b[0m\u001b[0m\n\u001b[1;32m      7\u001b[0m   \u001b[0mesearch_url_result\u001b[0m \u001b[0;34m=\u001b[0m \u001b[0murl_result\u001b[0m\u001b[0;34m.\u001b[0m\u001b[0mread\u001b[0m\u001b[0;34m(\u001b[0m\u001b[0;34m)\u001b[0m\u001b[0;34m.\u001b[0m\u001b[0mdecode\u001b[0m\u001b[0;34m(\u001b[0m\u001b[0;34m'utf-8'\u001b[0m\u001b[0;34m)\u001b[0m\u001b[0;34m\u001b[0m\u001b[0;34m\u001b[0m\u001b[0m\n",
            "\u001b[0;32m/usr/lib/python3.7/urllib/request.py\u001b[0m in \u001b[0;36murlopen\u001b[0;34m(url, data, timeout, cafile, capath, cadefault, context)\u001b[0m\n\u001b[1;32m    220\u001b[0m     \u001b[0;32melse\u001b[0m\u001b[0;34m:\u001b[0m\u001b[0;34m\u001b[0m\u001b[0;34m\u001b[0m\u001b[0m\n\u001b[1;32m    221\u001b[0m         \u001b[0mopener\u001b[0m \u001b[0;34m=\u001b[0m \u001b[0m_opener\u001b[0m\u001b[0;34m\u001b[0m\u001b[0;34m\u001b[0m\u001b[0m\n\u001b[0;32m--> 222\u001b[0;31m     \u001b[0;32mreturn\u001b[0m \u001b[0mopener\u001b[0m\u001b[0;34m.\u001b[0m\u001b[0mopen\u001b[0m\u001b[0;34m(\u001b[0m\u001b[0murl\u001b[0m\u001b[0;34m,\u001b[0m \u001b[0mdata\u001b[0m\u001b[0;34m,\u001b[0m \u001b[0mtimeout\u001b[0m\u001b[0;34m)\u001b[0m\u001b[0;34m\u001b[0m\u001b[0;34m\u001b[0m\u001b[0m\n\u001b[0m\u001b[1;32m    223\u001b[0m \u001b[0;34m\u001b[0m\u001b[0m\n\u001b[1;32m    224\u001b[0m \u001b[0;32mdef\u001b[0m \u001b[0minstall_opener\u001b[0m\u001b[0;34m(\u001b[0m\u001b[0mopener\u001b[0m\u001b[0;34m)\u001b[0m\u001b[0;34m:\u001b[0m\u001b[0;34m\u001b[0m\u001b[0;34m\u001b[0m\u001b[0m\n",
            "\u001b[0;32m/usr/lib/python3.7/urllib/request.py\u001b[0m in \u001b[0;36mopen\u001b[0;34m(self, fullurl, data, timeout)\u001b[0m\n\u001b[1;32m    523\u001b[0m             \u001b[0mreq\u001b[0m \u001b[0;34m=\u001b[0m \u001b[0mmeth\u001b[0m\u001b[0;34m(\u001b[0m\u001b[0mreq\u001b[0m\u001b[0;34m)\u001b[0m\u001b[0;34m\u001b[0m\u001b[0;34m\u001b[0m\u001b[0m\n\u001b[1;32m    524\u001b[0m \u001b[0;34m\u001b[0m\u001b[0m\n\u001b[0;32m--> 525\u001b[0;31m         \u001b[0mresponse\u001b[0m \u001b[0;34m=\u001b[0m \u001b[0mself\u001b[0m\u001b[0;34m.\u001b[0m\u001b[0m_open\u001b[0m\u001b[0;34m(\u001b[0m\u001b[0mreq\u001b[0m\u001b[0;34m,\u001b[0m \u001b[0mdata\u001b[0m\u001b[0;34m)\u001b[0m\u001b[0;34m\u001b[0m\u001b[0;34m\u001b[0m\u001b[0m\n\u001b[0m\u001b[1;32m    526\u001b[0m \u001b[0;34m\u001b[0m\u001b[0m\n\u001b[1;32m    527\u001b[0m         \u001b[0;31m# post-process response\u001b[0m\u001b[0;34m\u001b[0m\u001b[0;34m\u001b[0m\u001b[0;34m\u001b[0m\u001b[0m\n",
            "\u001b[0;32m/usr/lib/python3.7/urllib/request.py\u001b[0m in \u001b[0;36m_open\u001b[0;34m(self, req, data)\u001b[0m\n\u001b[1;32m    541\u001b[0m         \u001b[0mprotocol\u001b[0m \u001b[0;34m=\u001b[0m \u001b[0mreq\u001b[0m\u001b[0;34m.\u001b[0m\u001b[0mtype\u001b[0m\u001b[0;34m\u001b[0m\u001b[0;34m\u001b[0m\u001b[0m\n\u001b[1;32m    542\u001b[0m         result = self._call_chain(self.handle_open, protocol, protocol +\n\u001b[0;32m--> 543\u001b[0;31m                                   '_open', req)\n\u001b[0m\u001b[1;32m    544\u001b[0m         \u001b[0;32mif\u001b[0m \u001b[0mresult\u001b[0m\u001b[0;34m:\u001b[0m\u001b[0;34m\u001b[0m\u001b[0;34m\u001b[0m\u001b[0m\n\u001b[1;32m    545\u001b[0m             \u001b[0;32mreturn\u001b[0m \u001b[0mresult\u001b[0m\u001b[0;34m\u001b[0m\u001b[0;34m\u001b[0m\u001b[0m\n",
            "\u001b[0;32m/usr/lib/python3.7/urllib/request.py\u001b[0m in \u001b[0;36m_call_chain\u001b[0;34m(self, chain, kind, meth_name, *args)\u001b[0m\n\u001b[1;32m    501\u001b[0m         \u001b[0;32mfor\u001b[0m \u001b[0mhandler\u001b[0m \u001b[0;32min\u001b[0m \u001b[0mhandlers\u001b[0m\u001b[0;34m:\u001b[0m\u001b[0;34m\u001b[0m\u001b[0;34m\u001b[0m\u001b[0m\n\u001b[1;32m    502\u001b[0m             \u001b[0mfunc\u001b[0m \u001b[0;34m=\u001b[0m \u001b[0mgetattr\u001b[0m\u001b[0;34m(\u001b[0m\u001b[0mhandler\u001b[0m\u001b[0;34m,\u001b[0m \u001b[0mmeth_name\u001b[0m\u001b[0;34m)\u001b[0m\u001b[0;34m\u001b[0m\u001b[0;34m\u001b[0m\u001b[0m\n\u001b[0;32m--> 503\u001b[0;31m             \u001b[0mresult\u001b[0m \u001b[0;34m=\u001b[0m \u001b[0mfunc\u001b[0m\u001b[0;34m(\u001b[0m\u001b[0;34m*\u001b[0m\u001b[0margs\u001b[0m\u001b[0;34m)\u001b[0m\u001b[0;34m\u001b[0m\u001b[0;34m\u001b[0m\u001b[0m\n\u001b[0m\u001b[1;32m    504\u001b[0m             \u001b[0;32mif\u001b[0m \u001b[0mresult\u001b[0m \u001b[0;32mis\u001b[0m \u001b[0;32mnot\u001b[0m \u001b[0;32mNone\u001b[0m\u001b[0;34m:\u001b[0m\u001b[0;34m\u001b[0m\u001b[0;34m\u001b[0m\u001b[0m\n\u001b[1;32m    505\u001b[0m                 \u001b[0;32mreturn\u001b[0m \u001b[0mresult\u001b[0m\u001b[0;34m\u001b[0m\u001b[0;34m\u001b[0m\u001b[0m\n",
            "\u001b[0;32m/usr/lib/python3.7/urllib/request.py\u001b[0m in \u001b[0;36mhttps_open\u001b[0;34m(self, req)\u001b[0m\n\u001b[1;32m   1391\u001b[0m         \u001b[0;32mdef\u001b[0m \u001b[0mhttps_open\u001b[0m\u001b[0;34m(\u001b[0m\u001b[0mself\u001b[0m\u001b[0;34m,\u001b[0m \u001b[0mreq\u001b[0m\u001b[0;34m)\u001b[0m\u001b[0;34m:\u001b[0m\u001b[0;34m\u001b[0m\u001b[0;34m\u001b[0m\u001b[0m\n\u001b[1;32m   1392\u001b[0m             return self.do_open(http.client.HTTPSConnection, req,\n\u001b[0;32m-> 1393\u001b[0;31m                 context=self._context, check_hostname=self._check_hostname)\n\u001b[0m\u001b[1;32m   1394\u001b[0m \u001b[0;34m\u001b[0m\u001b[0m\n\u001b[1;32m   1395\u001b[0m         \u001b[0mhttps_request\u001b[0m \u001b[0;34m=\u001b[0m \u001b[0mAbstractHTTPHandler\u001b[0m\u001b[0;34m.\u001b[0m\u001b[0mdo_request_\u001b[0m\u001b[0;34m\u001b[0m\u001b[0;34m\u001b[0m\u001b[0m\n",
            "\u001b[0;32m/usr/lib/python3.7/urllib/request.py\u001b[0m in \u001b[0;36mdo_open\u001b[0;34m(self, http_class, req, **http_conn_args)\u001b[0m\n\u001b[1;32m   1351\u001b[0m             \u001b[0;32mexcept\u001b[0m \u001b[0mOSError\u001b[0m \u001b[0;32mas\u001b[0m \u001b[0merr\u001b[0m\u001b[0;34m:\u001b[0m \u001b[0;31m# timeout error\u001b[0m\u001b[0;34m\u001b[0m\u001b[0;34m\u001b[0m\u001b[0m\n\u001b[1;32m   1352\u001b[0m                 \u001b[0;32mraise\u001b[0m \u001b[0mURLError\u001b[0m\u001b[0;34m(\u001b[0m\u001b[0merr\u001b[0m\u001b[0;34m)\u001b[0m\u001b[0;34m\u001b[0m\u001b[0;34m\u001b[0m\u001b[0m\n\u001b[0;32m-> 1353\u001b[0;31m             \u001b[0mr\u001b[0m \u001b[0;34m=\u001b[0m \u001b[0mh\u001b[0m\u001b[0;34m.\u001b[0m\u001b[0mgetresponse\u001b[0m\u001b[0;34m(\u001b[0m\u001b[0;34m)\u001b[0m\u001b[0;34m\u001b[0m\u001b[0;34m\u001b[0m\u001b[0m\n\u001b[0m\u001b[1;32m   1354\u001b[0m         \u001b[0;32mexcept\u001b[0m\u001b[0;34m:\u001b[0m\u001b[0;34m\u001b[0m\u001b[0;34m\u001b[0m\u001b[0m\n\u001b[1;32m   1355\u001b[0m             \u001b[0mh\u001b[0m\u001b[0;34m.\u001b[0m\u001b[0mclose\u001b[0m\u001b[0;34m(\u001b[0m\u001b[0;34m)\u001b[0m\u001b[0;34m\u001b[0m\u001b[0;34m\u001b[0m\u001b[0m\n",
            "\u001b[0;32m/usr/lib/python3.7/http/client.py\u001b[0m in \u001b[0;36mgetresponse\u001b[0;34m(self)\u001b[0m\n\u001b[1;32m   1371\u001b[0m         \u001b[0;32mtry\u001b[0m\u001b[0;34m:\u001b[0m\u001b[0;34m\u001b[0m\u001b[0;34m\u001b[0m\u001b[0m\n\u001b[1;32m   1372\u001b[0m             \u001b[0;32mtry\u001b[0m\u001b[0;34m:\u001b[0m\u001b[0;34m\u001b[0m\u001b[0;34m\u001b[0m\u001b[0m\n\u001b[0;32m-> 1373\u001b[0;31m                 \u001b[0mresponse\u001b[0m\u001b[0;34m.\u001b[0m\u001b[0mbegin\u001b[0m\u001b[0;34m(\u001b[0m\u001b[0;34m)\u001b[0m\u001b[0;34m\u001b[0m\u001b[0;34m\u001b[0m\u001b[0m\n\u001b[0m\u001b[1;32m   1374\u001b[0m             \u001b[0;32mexcept\u001b[0m \u001b[0mConnectionError\u001b[0m\u001b[0;34m:\u001b[0m\u001b[0;34m\u001b[0m\u001b[0;34m\u001b[0m\u001b[0m\n\u001b[1;32m   1375\u001b[0m                 \u001b[0mself\u001b[0m\u001b[0;34m.\u001b[0m\u001b[0mclose\u001b[0m\u001b[0;34m(\u001b[0m\u001b[0;34m)\u001b[0m\u001b[0;34m\u001b[0m\u001b[0;34m\u001b[0m\u001b[0m\n",
            "\u001b[0;32m/usr/lib/python3.7/http/client.py\u001b[0m in \u001b[0;36mbegin\u001b[0;34m(self)\u001b[0m\n\u001b[1;32m    317\u001b[0m         \u001b[0;31m# read until we get a non-100 response\u001b[0m\u001b[0;34m\u001b[0m\u001b[0;34m\u001b[0m\u001b[0;34m\u001b[0m\u001b[0m\n\u001b[1;32m    318\u001b[0m         \u001b[0;32mwhile\u001b[0m \u001b[0;32mTrue\u001b[0m\u001b[0;34m:\u001b[0m\u001b[0;34m\u001b[0m\u001b[0;34m\u001b[0m\u001b[0m\n\u001b[0;32m--> 319\u001b[0;31m             \u001b[0mversion\u001b[0m\u001b[0;34m,\u001b[0m \u001b[0mstatus\u001b[0m\u001b[0;34m,\u001b[0m \u001b[0mreason\u001b[0m \u001b[0;34m=\u001b[0m \u001b[0mself\u001b[0m\u001b[0;34m.\u001b[0m\u001b[0m_read_status\u001b[0m\u001b[0;34m(\u001b[0m\u001b[0;34m)\u001b[0m\u001b[0;34m\u001b[0m\u001b[0;34m\u001b[0m\u001b[0m\n\u001b[0m\u001b[1;32m    320\u001b[0m             \u001b[0;32mif\u001b[0m \u001b[0mstatus\u001b[0m \u001b[0;34m!=\u001b[0m \u001b[0mCONTINUE\u001b[0m\u001b[0;34m:\u001b[0m\u001b[0;34m\u001b[0m\u001b[0;34m\u001b[0m\u001b[0m\n\u001b[1;32m    321\u001b[0m                 \u001b[0;32mbreak\u001b[0m\u001b[0;34m\u001b[0m\u001b[0;34m\u001b[0m\u001b[0m\n",
            "\u001b[0;32m/usr/lib/python3.7/http/client.py\u001b[0m in \u001b[0;36m_read_status\u001b[0;34m(self)\u001b[0m\n\u001b[1;32m    278\u001b[0m \u001b[0;34m\u001b[0m\u001b[0m\n\u001b[1;32m    279\u001b[0m     \u001b[0;32mdef\u001b[0m \u001b[0m_read_status\u001b[0m\u001b[0;34m(\u001b[0m\u001b[0mself\u001b[0m\u001b[0;34m)\u001b[0m\u001b[0;34m:\u001b[0m\u001b[0;34m\u001b[0m\u001b[0;34m\u001b[0m\u001b[0m\n\u001b[0;32m--> 280\u001b[0;31m         \u001b[0mline\u001b[0m \u001b[0;34m=\u001b[0m \u001b[0mstr\u001b[0m\u001b[0;34m(\u001b[0m\u001b[0mself\u001b[0m\u001b[0;34m.\u001b[0m\u001b[0mfp\u001b[0m\u001b[0;34m.\u001b[0m\u001b[0mreadline\u001b[0m\u001b[0;34m(\u001b[0m\u001b[0m_MAXLINE\u001b[0m \u001b[0;34m+\u001b[0m \u001b[0;36m1\u001b[0m\u001b[0;34m)\u001b[0m\u001b[0;34m,\u001b[0m \u001b[0;34m\"iso-8859-1\"\u001b[0m\u001b[0;34m)\u001b[0m\u001b[0;34m\u001b[0m\u001b[0;34m\u001b[0m\u001b[0m\n\u001b[0m\u001b[1;32m    281\u001b[0m         \u001b[0;32mif\u001b[0m \u001b[0mlen\u001b[0m\u001b[0;34m(\u001b[0m\u001b[0mline\u001b[0m\u001b[0;34m)\u001b[0m \u001b[0;34m>\u001b[0m \u001b[0m_MAXLINE\u001b[0m\u001b[0;34m:\u001b[0m\u001b[0;34m\u001b[0m\u001b[0;34m\u001b[0m\u001b[0m\n\u001b[1;32m    282\u001b[0m             \u001b[0;32mraise\u001b[0m \u001b[0mLineTooLong\u001b[0m\u001b[0;34m(\u001b[0m\u001b[0;34m\"status line\"\u001b[0m\u001b[0;34m)\u001b[0m\u001b[0;34m\u001b[0m\u001b[0;34m\u001b[0m\u001b[0m\n",
            "\u001b[0;32m/usr/lib/python3.7/socket.py\u001b[0m in \u001b[0;36mreadinto\u001b[0;34m(self, b)\u001b[0m\n\u001b[1;32m    587\u001b[0m         \u001b[0;32mwhile\u001b[0m \u001b[0;32mTrue\u001b[0m\u001b[0;34m:\u001b[0m\u001b[0;34m\u001b[0m\u001b[0;34m\u001b[0m\u001b[0m\n\u001b[1;32m    588\u001b[0m             \u001b[0;32mtry\u001b[0m\u001b[0;34m:\u001b[0m\u001b[0;34m\u001b[0m\u001b[0;34m\u001b[0m\u001b[0m\n\u001b[0;32m--> 589\u001b[0;31m                 \u001b[0;32mreturn\u001b[0m \u001b[0mself\u001b[0m\u001b[0;34m.\u001b[0m\u001b[0m_sock\u001b[0m\u001b[0;34m.\u001b[0m\u001b[0mrecv_into\u001b[0m\u001b[0;34m(\u001b[0m\u001b[0mb\u001b[0m\u001b[0;34m)\u001b[0m\u001b[0;34m\u001b[0m\u001b[0;34m\u001b[0m\u001b[0m\n\u001b[0m\u001b[1;32m    590\u001b[0m             \u001b[0;32mexcept\u001b[0m \u001b[0mtimeout\u001b[0m\u001b[0;34m:\u001b[0m\u001b[0;34m\u001b[0m\u001b[0;34m\u001b[0m\u001b[0m\n\u001b[1;32m    591\u001b[0m                 \u001b[0mself\u001b[0m\u001b[0;34m.\u001b[0m\u001b[0m_timeout_occurred\u001b[0m \u001b[0;34m=\u001b[0m \u001b[0;32mTrue\u001b[0m\u001b[0;34m\u001b[0m\u001b[0;34m\u001b[0m\u001b[0m\n",
            "\u001b[0;32m/usr/lib/python3.7/ssl.py\u001b[0m in \u001b[0;36mrecv_into\u001b[0;34m(self, buffer, nbytes, flags)\u001b[0m\n\u001b[1;32m   1069\u001b[0m                   \u001b[0;34m\"non-zero flags not allowed in calls to recv_into() on %s\"\u001b[0m \u001b[0;34m%\u001b[0m\u001b[0;34m\u001b[0m\u001b[0;34m\u001b[0m\u001b[0m\n\u001b[1;32m   1070\u001b[0m                   self.__class__)\n\u001b[0;32m-> 1071\u001b[0;31m             \u001b[0;32mreturn\u001b[0m \u001b[0mself\u001b[0m\u001b[0;34m.\u001b[0m\u001b[0mread\u001b[0m\u001b[0;34m(\u001b[0m\u001b[0mnbytes\u001b[0m\u001b[0;34m,\u001b[0m \u001b[0mbuffer\u001b[0m\u001b[0;34m)\u001b[0m\u001b[0;34m\u001b[0m\u001b[0;34m\u001b[0m\u001b[0m\n\u001b[0m\u001b[1;32m   1072\u001b[0m         \u001b[0;32melse\u001b[0m\u001b[0;34m:\u001b[0m\u001b[0;34m\u001b[0m\u001b[0;34m\u001b[0m\u001b[0m\n\u001b[1;32m   1073\u001b[0m             \u001b[0;32mreturn\u001b[0m \u001b[0msuper\u001b[0m\u001b[0;34m(\u001b[0m\u001b[0;34m)\u001b[0m\u001b[0;34m.\u001b[0m\u001b[0mrecv_into\u001b[0m\u001b[0;34m(\u001b[0m\u001b[0mbuffer\u001b[0m\u001b[0;34m,\u001b[0m \u001b[0mnbytes\u001b[0m\u001b[0;34m,\u001b[0m \u001b[0mflags\u001b[0m\u001b[0;34m)\u001b[0m\u001b[0;34m\u001b[0m\u001b[0;34m\u001b[0m\u001b[0m\n",
            "\u001b[0;32m/usr/lib/python3.7/ssl.py\u001b[0m in \u001b[0;36mread\u001b[0;34m(self, len, buffer)\u001b[0m\n\u001b[1;32m    927\u001b[0m         \u001b[0;32mtry\u001b[0m\u001b[0;34m:\u001b[0m\u001b[0;34m\u001b[0m\u001b[0;34m\u001b[0m\u001b[0m\n\u001b[1;32m    928\u001b[0m             \u001b[0;32mif\u001b[0m \u001b[0mbuffer\u001b[0m \u001b[0;32mis\u001b[0m \u001b[0;32mnot\u001b[0m \u001b[0;32mNone\u001b[0m\u001b[0;34m:\u001b[0m\u001b[0;34m\u001b[0m\u001b[0;34m\u001b[0m\u001b[0m\n\u001b[0;32m--> 929\u001b[0;31m                 \u001b[0;32mreturn\u001b[0m \u001b[0mself\u001b[0m\u001b[0;34m.\u001b[0m\u001b[0m_sslobj\u001b[0m\u001b[0;34m.\u001b[0m\u001b[0mread\u001b[0m\u001b[0;34m(\u001b[0m\u001b[0mlen\u001b[0m\u001b[0;34m,\u001b[0m \u001b[0mbuffer\u001b[0m\u001b[0;34m)\u001b[0m\u001b[0;34m\u001b[0m\u001b[0;34m\u001b[0m\u001b[0m\n\u001b[0m\u001b[1;32m    930\u001b[0m             \u001b[0;32melse\u001b[0m\u001b[0;34m:\u001b[0m\u001b[0;34m\u001b[0m\u001b[0;34m\u001b[0m\u001b[0m\n\u001b[1;32m    931\u001b[0m                 \u001b[0;32mreturn\u001b[0m \u001b[0mself\u001b[0m\u001b[0;34m.\u001b[0m\u001b[0m_sslobj\u001b[0m\u001b[0;34m.\u001b[0m\u001b[0mread\u001b[0m\u001b[0;34m(\u001b[0m\u001b[0mlen\u001b[0m\u001b[0;34m)\u001b[0m\u001b[0;34m\u001b[0m\u001b[0;34m\u001b[0m\u001b[0m\n",
            "\u001b[0;31mKeyboardInterrupt\u001b[0m: "
          ]
        }
      ]
    },
    {
      "cell_type": "code",
      "source": [
        "get_citation('30713326')"
      ],
      "metadata": {
        "id": "oLwKXgz12tPa",
        "colab": {
          "base_uri": "https://localhost:8080/"
        },
        "outputId": "33c9a1f4-5194-465e-c715-018dd9e91ff2"
      },
      "execution_count": null,
      "outputs": [
        {
          "output_type": "execute_result",
          "data": {
            "text/plain": [
              "{'30713326',\n",
              " '31654456',\n",
              " '31879536',\n",
              " '32552502',\n",
              " '33708064',\n",
              " '33976418',\n",
              " '34052827',\n",
              " '34750548',\n",
              " '34758732',\n",
              " '35071782'}"
            ]
          },
          "metadata": {},
          "execution_count": 56
        }
      ]
    },
    {
      "cell_type": "code",
      "source": [
        ""
      ],
      "metadata": {
        "id": "XZdiEVGurLqs"
      },
      "execution_count": null,
      "outputs": []
    }
  ]
}
